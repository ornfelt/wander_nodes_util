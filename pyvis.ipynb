{
  "nbformat": 4,
  "nbformat_minor": 0,
  "metadata": {
    "colab": {
      "provenance": []
    },
    "kernelspec": {
      "name": "python3",
      "display_name": "Python 3"
    },
    "language_info": {
      "name": "python"
    }
  },
  "cells": [
    {
      "cell_type": "markdown",
      "source": [
        "Inspiration: https://towardsdatascience.com/pyvis-visualize-interactive-network-graphs-in-python-77e059791f01"
      ],
      "metadata": {
        "id": "rPrkwy01FJ1a"
      }
    },
    {
      "cell_type": "code",
      "execution_count": null,
      "metadata": {
        "colab": {
          "base_uri": "https://localhost:8080/"
        },
        "id": "xygAj1h0FF8q",
        "outputId": "1e4e8bdb-bf32-4359-b679-738f3ce4c81d"
      },
      "outputs": [
        {
          "output_type": "stream",
          "name": "stdout",
          "text": [
            "Looking in indexes: https://pypi.org/simple, https://us-python.pkg.dev/colab-wheels/public/simple/\n",
            "Collecting pyvis\n",
            "  Downloading pyvis-0.3.2-py3-none-any.whl (756 kB)\n",
            "\u001b[2K     \u001b[90m━━━━━━━━━━━━━━━━━━━━━━━━━━━━━━━━━━━━━━\u001b[0m \u001b[32m756.0/756.0 kB\u001b[0m \u001b[31m12.1 MB/s\u001b[0m eta \u001b[36m0:00:00\u001b[0m\n",
            "\u001b[?25hRequirement already satisfied: ipython>=5.3.0 in /usr/local/lib/python3.10/dist-packages (from pyvis) (7.34.0)\n",
            "Requirement already satisfied: jinja2>=2.9.6 in /usr/local/lib/python3.10/dist-packages (from pyvis) (3.1.2)\n",
            "Requirement already satisfied: jsonpickle>=1.4.1 in /usr/local/lib/python3.10/dist-packages (from pyvis) (3.0.1)\n",
            "Requirement already satisfied: networkx>=1.11 in /usr/local/lib/python3.10/dist-packages (from pyvis) (3.1)\n",
            "Requirement already satisfied: setuptools>=18.5 in /usr/local/lib/python3.10/dist-packages (from ipython>=5.3.0->pyvis) (67.7.2)\n",
            "Collecting jedi>=0.16 (from ipython>=5.3.0->pyvis)\n",
            "  Downloading jedi-0.18.2-py2.py3-none-any.whl (1.6 MB)\n",
            "\u001b[2K     \u001b[90m━━━━━━━━━━━━━━━━━━━━━━━━━━━━━━━━━━━━━━━━\u001b[0m \u001b[32m1.6/1.6 MB\u001b[0m \u001b[31m18.2 MB/s\u001b[0m eta \u001b[36m0:00:00\u001b[0m\n",
            "\u001b[?25hRequirement already satisfied: decorator in /usr/local/lib/python3.10/dist-packages (from ipython>=5.3.0->pyvis) (4.4.2)\n",
            "Requirement already satisfied: pickleshare in /usr/local/lib/python3.10/dist-packages (from ipython>=5.3.0->pyvis) (0.7.5)\n",
            "Requirement already satisfied: traitlets>=4.2 in /usr/local/lib/python3.10/dist-packages (from ipython>=5.3.0->pyvis) (5.7.1)\n",
            "Requirement already satisfied: prompt-toolkit!=3.0.0,!=3.0.1,<3.1.0,>=2.0.0 in /usr/local/lib/python3.10/dist-packages (from ipython>=5.3.0->pyvis) (3.0.38)\n",
            "Requirement already satisfied: pygments in /usr/local/lib/python3.10/dist-packages (from ipython>=5.3.0->pyvis) (2.14.0)\n",
            "Requirement already satisfied: backcall in /usr/local/lib/python3.10/dist-packages (from ipython>=5.3.0->pyvis) (0.2.0)\n",
            "Requirement already satisfied: matplotlib-inline in /usr/local/lib/python3.10/dist-packages (from ipython>=5.3.0->pyvis) (0.1.6)\n",
            "Requirement already satisfied: pexpect>4.3 in /usr/local/lib/python3.10/dist-packages (from ipython>=5.3.0->pyvis) (4.8.0)\n",
            "Requirement already satisfied: MarkupSafe>=2.0 in /usr/local/lib/python3.10/dist-packages (from jinja2>=2.9.6->pyvis) (2.1.2)\n",
            "Requirement already satisfied: parso<0.9.0,>=0.8.0 in /usr/local/lib/python3.10/dist-packages (from jedi>=0.16->ipython>=5.3.0->pyvis) (0.8.3)\n",
            "Requirement already satisfied: ptyprocess>=0.5 in /usr/local/lib/python3.10/dist-packages (from pexpect>4.3->ipython>=5.3.0->pyvis) (0.7.0)\n",
            "Requirement already satisfied: wcwidth in /usr/local/lib/python3.10/dist-packages (from prompt-toolkit!=3.0.0,!=3.0.1,<3.1.0,>=2.0.0->ipython>=5.3.0->pyvis) (0.2.6)\n",
            "Installing collected packages: jedi, pyvis\n",
            "Successfully installed jedi-0.18.2 pyvis-0.3.2\n"
          ]
        }
      ],
      "source": [
        "!pip install pyvis"
      ]
    },
    {
      "cell_type": "code",
      "source": [
        "class Pos:\n",
        "    def __init__(self, x=0, y=0):\n",
        "        self.x = x\n",
        "        self.y = y\n",
        "\n",
        "def get_player_position(x, y, m):\n",
        "    pos = Pos()\n",
        "    where_530 = 0\n",
        "    x = round(x)\n",
        "    y = round(y)\n",
        "    \n",
        "    if m == 530:\n",
        "        if -1000 < y < -10000 and x > 5000:  # BE\n",
        "            x -= 10349\n",
        "            y += 6357\n",
        "            where_530 = 1\n",
        "        elif y < -7000 and x < 0:  # Dr\n",
        "            x += 3961\n",
        "            y += 13931\n",
        "            where_530 = 2\n",
        "        else:  # Outland\n",
        "            x -= 3070\n",
        "            y -= 1265\n",
        "            where_530 = 3\n",
        "    elif m == 609:\n",
        "        x -= 2355\n",
        "        y += 5662\n",
        "    \n",
        "    if where_530 == 3:  # Outland\n",
        "        xpos = round(x * 0.051446)\n",
        "        ypos = round(y * 0.051446)\n",
        "    elif m == 571:  # Northrend\n",
        "        xpos = round(x * 0.050085)\n",
        "        ypos = round(y * 0.050085)\n",
        "    else:  # Azeroth\n",
        "        xpos = round(x * 0.025140)\n",
        "        ypos = round(y * 0.025140)\n",
        "    \n",
        "    if m == '530':\n",
        "        if where_530 == 1:\n",
        "            pos.x = 858 - ypos\n",
        "            pos.y = 84 - xpos\n",
        "        elif where_530 == 2:\n",
        "            pos.x = 103 - ypos\n",
        "            pos.y = 261 - xpos\n",
        "        elif where_530 == 3:\n",
        "            pos.x = 684 - ypos\n",
        "            pos.y = 229 - xpos\n",
        "    elif m == '571':\n",
        "        pos.x = 505 - ypos\n",
        "        pos.y = 642 - xpos\n",
        "    elif m == '609':\n",
        "        pos.x = 896 - ypos\n",
        "        pos.y = 232 - xpos\n",
        "    elif m == '1':\n",
        "        pos.x = 194 - ypos\n",
        "        pos.y = 398 - xpos\n",
        "    elif m == '0':\n",
        "        pos.x = 752 - ypos\n",
        "        pos.y = 291 - xpos\n",
        "    else:\n",
        "        pos.x = 194 - ypos\n",
        "        pos.y = 398 - xpos\n",
        "    \n",
        "    return pos\n",
        "\n",
        "test_pos = get_player_position(-2105.56,6746.75, 530)\n",
        "print(test_pos.x, test_pos.y);\n",
        "test_pos = get_player_position(-2288.2,6747.21,530)\n",
        "print(test_pos.x, test_pos.y);\n",
        "test_pos = get_player_position(-2473.95,6475.78,530)\n",
        "print(test_pos.x, test_pos.y);"
      ],
      "metadata": {
        "colab": {
          "base_uri": "https://localhost:8080/"
        },
        "id": "WYfd7XYjB9eN",
        "outputId": "d87f9c3d-4693-40a1-ff46-b0ec8af4f2a2"
      },
      "execution_count": 60,
      "outputs": [
        {
          "output_type": "stream",
          "name": "stdout",
          "text": [
            "-88 664\n",
            "-88 674\n",
            "-74 683\n"
          ]
        }
      ]
    },
    {
      "cell_type": "code",
      "source": [
        "with open(\"2023_04_25_00_outland_complete.sql\") as file:\n",
        "    ol_lines = [line.rstrip() for line in file]\n",
        "    #print(ol_lines)\n",
        "\n",
        "with open(\"2023_05_14_00_northrend_complete.sql\") as file:\n",
        "    nr_lines = [line.rstrip() for line in file]\n",
        "    #print(nr_lines)\n",
        "\n",
        "ol_vertices = {}\n",
        "ol_zones = {}\n",
        "ol_x = {}\n",
        "ol_y = {}\n",
        "# Loop Outland nodes\n",
        "for line in ol_lines:\n",
        "  if len(line) > 0 and line[0] == '(':\n",
        "    map_id = line.split(\",\")[2]\n",
        "    if map_id == \"530\": # Outland Map ID\n",
        "      node_id = line.split('(')[1].split(',')[0]\n",
        "      #print(node_id)\n",
        "      #node_links = line.split(\"'\")[3].replace(\":0\", \"\")\n",
        "      #node_links = node_links.rstrip(node_links[-1]).split(\" \")\n",
        "      node_links = line.split(\"'\")[3].replace(\":0\", \"\")[:-1].split(\" \")\n",
        "      #print(node_links)\n",
        "      ol_vertices[node_id] = node_links\n",
        "\n",
        "      # Also add zone_ids\n",
        "      zone_id = line.split(\",\")[3]\n",
        "      ol_zones[node_id] = zone_id\n",
        "      # Add x and y\n",
        "      node_x = line.split(\",\")[8]\n",
        "      node_y = line.split(\",\")[9]\n",
        "      node_pos = get_player_position(float(node_x), float(node_y), int(map_id))\n",
        "      ol_x[node_id] = node_pos.x\n",
        "      ol_y[node_id] = node_pos.y\n",
        "\n",
        "nr_vertices = {}\n",
        "nr_zones = {}\n",
        "nr_x = {}\n",
        "nr_y = {}\n",
        "# Loop Northrend nodes (some northrend lines are in outland file, so first check that one)\n",
        "for line in ol_lines:\n",
        "  if len(line) > 0 and line[0] == '(':\n",
        "    map_id = line.split(\",\")[2]\n",
        "    if map_id == \"571\": # Northrend Map ID\n",
        "      node_id = line.split('(')[1].split(',')[0]\n",
        "      #print(node_id)\n",
        "      #node_links = line.split(\"'\")[3].replace(\":0\", \"\")\n",
        "      #node_links = node_links.rstrip(node_links[-1]).split(\" \")\n",
        "      node_links = line.split(\"'\")[3].replace(\":0\", \"\")[:-1].split(\" \")\n",
        "      #print(node_links)\n",
        "      nr_vertices[node_id] = node_links\n",
        "\n",
        "      # Also add zone_ids\n",
        "      zone_id = line.split(\",\")[3]\n",
        "      nr_zones[node_id] = zone_id\n",
        "      # Add x and y\n",
        "      node_x = line.split(\",\")[8]\n",
        "      node_y = line.split(\",\")[9]\n",
        "      node_pos = get_player_position(float(node_x), float(node_y), int(map_id))\n",
        "      nr_x[node_id] = node_pos.x\n",
        "      nr_y[node_id] = node_pos.y\n",
        "\n",
        "for line in nr_lines:\n",
        "  if len(line) > 0 and line[0] == '(':\n",
        "    map_id = line.split(\",\")[2]\n",
        "    if map_id == \"571\": # Northrend Map ID\n",
        "      node_id = line.split('(')[1].split(',')[0]\n",
        "      #print(node_id)\n",
        "      #node_links = line.split(\"'\")[3].replace(\":0\", \"\")\n",
        "      #node_links = node_links.rstrip(node_links[-1]).split(\" \")\n",
        "      node_links = line.split(\"'\")[3].replace(\":0\", \"\")[:-1].split(\" \")\n",
        "      #print(node_links)\n",
        "      nr_vertices[node_id] = node_links\n",
        "\n",
        "      # Also add zone_ids\n",
        "      zone_id = line.split(\",\")[3]\n",
        "      nr_zones[node_id] = zone_id\n",
        "      # Add x and y\n",
        "      node_x = line.split(\",\")[8]\n",
        "      node_y = line.split(\",\")[9]\n",
        "      node_pos = get_player_position(float(node_x), float(node_y), int(map_id))\n",
        "      nr_x[node_id] = node_pos.x\n",
        "      nr_y[node_id] = node_pos.y\n",
        "\n",
        "# These need to be translated\n",
        "print(ol_x[\"2418\"])\n",
        "print(ol_y[\"2418\"])\n",
        "\n",
        "# Northrend\n",
        "print(nr_x[\"2703\"])\n",
        "print(nr_y[\"2703\"])"
      ],
      "metadata": {
        "colab": {
          "base_uri": "https://localhost:8080/"
        },
        "id": "3IelXeIEgRHH",
        "outputId": "a45ae605-d5c2-4ec7-93ce-30fcf96d2992"
      },
      "execution_count": 61,
      "outputs": [
        {
          "output_type": "stream",
          "name": "stdout",
          "text": [
            "-88\n",
            "664\n",
            "-78\n",
            "284\n"
          ]
        }
      ]
    },
    {
      "cell_type": "markdown",
      "source": [
        "#Outland"
      ],
      "metadata": {
        "id": "jfwexkEnFjWx"
      }
    },
    {
      "cell_type": "code",
      "source": [
        "from pyvis.network import Network\n",
        "\n",
        "#net = Network()\n",
        "# Some example options:\n",
        "#net = Network(height='100%', width='100%', bgcolor='#222222', font_color='white', directed=True)\n",
        "#net = Network(notebook=True) # For notebook\n",
        "# Non-directed\n",
        "#net = Network(notebook=True, bgcolor='#222222', font_color='white')\n",
        "net = Network(notebook=True, bgcolor='#222222', font_color='white', directed=True)\n",
        "\n",
        "for node_id in ol_vertices.keys():\n",
        "  #net.add_node((int(node_id)), label=node_id)\n",
        "  if ol_zones[node_id] == \"3518\":\n",
        "    net.add_node((int(node_id)), label=node_id, color=\"#4caf50\", x=ol_x[node_id], y=ol_y[node_id]) # Nagrand\n",
        "  elif ol_zones[node_id] == \"3519\":\n",
        "    net.add_node((int(node_id)), label=node_id, color=\"#265828\", x=ol_x[node_id], y=ol_y[node_id]) # Terokkar forest\n",
        "  elif ol_zones[node_id] == \"3520\":\n",
        "    net.add_node((int(node_id)), label=node_id, color=\"#DFFE00\", x=ol_x[node_id], y=ol_y[node_id]) # Shadowmoon Valley\n",
        "  elif ol_zones[node_id] == \"3521\":\n",
        "    net.add_node((int(node_id)), label=node_id, color=\"#3155a8\", x=ol_x[node_id], y=ol_y[node_id]) # Zangarmarsh\n",
        "  elif ol_zones[node_id] == \"3483\":\n",
        "    net.add_node((int(node_id)), label=node_id, color=\"#eb4034\", x=ol_x[node_id], y=ol_y[node_id]) # Hellfire\n",
        "  elif ol_zones[node_id] == \"3522\":\n",
        "    net.add_node((int(node_id)), label=node_id, color=\"#C8AD7E\", x=ol_x[node_id], y=ol_y[node_id]) # Blade's edge\n",
        "  elif ol_zones[node_id] == \"3523\":\n",
        "    net.add_node((int(node_id)), label=node_id, color=\"#9a31a8\", x=ol_x[node_id], y=ol_y[node_id]) # Netherstorm\n",
        "  else:\n",
        "    net.add_node((int(node_id)), label=node_id, x=ol_x[node_id], y=ol_y[node_id]) # Shattrath (3703)\n",
        "\n",
        "for node_id, node_links in ol_vertices.items():\n",
        "  for link in node_links:\n",
        "    if link in ol_vertices.keys():\n",
        "      if ol_zones[node_id] != ol_zones[link]:\n",
        "        # Mark forks to other zones with another weight\n",
        "        net.add_edge(int(node_id), int(link), value=4)\n",
        "      else:\n",
        "        net.add_edge(int(node_id), int(link))\n",
        "\n",
        "net.show('outland_wander_nodes.html')"
      ],
      "metadata": {
        "colab": {
          "base_uri": "https://localhost:8080/",
          "height": 676
        },
        "id": "1UkV4AtRgpnk",
        "outputId": "540d832c-b9b1-4296-ac17-925ac4e752f5"
      },
      "execution_count": 62,
      "outputs": [
        {
          "output_type": "stream",
          "name": "stdout",
          "text": [
            "Warning: When  cdn_resources is 'local' jupyter notebook has issues displaying graphics on chrome/safari. Use cdn_resources='in_line' or cdn_resources='remote' if you have issues viewing graphics in a notebook.\n",
            "outland_wander_nodes.html\n"
          ]
        },
        {
          "output_type": "execute_result",
          "data": {
            "text/plain": [
              "<IPython.lib.display.IFrame at 0x7f15fbb515d0>"
            ],
            "text/html": [
              "\n",
              "        <iframe\n",
              "            width=\"100%\"\n",
              "            height=\"600px\"\n",
              "            src=\"outland_wander_nodes.html\"\n",
              "            frameborder=\"0\"\n",
              "            allowfullscreen\n",
              "            \n",
              "        ></iframe>\n",
              "        "
            ]
          },
          "metadata": {},
          "execution_count": 62
        }
      ]
    },
    {
      "cell_type": "markdown",
      "source": [
        "#Northrend"
      ],
      "metadata": {
        "id": "PB2provNFlLo"
      }
    },
    {
      "cell_type": "code",
      "source": [
        "from pyvis.network import Network\n",
        "\n",
        "# Non-directed\n",
        "#net = Network(notebook=True, bgcolor='#222222', font_color='white')\n",
        "net = Network(notebook=True, bgcolor='#222222', font_color='white', directed=True)\n",
        "\n",
        "for node_id in nr_vertices.keys():\n",
        "  #net.add_node((int(node_id)), label=node_id)\n",
        "  if nr_zones[node_id] == \"3711\":\n",
        "    net.add_node((int(node_id)), label=node_id, color=\"#4caf50\", x=nr_x[node_id], y=nr_y[node_id]) # Sholazar basin\n",
        "  elif nr_zones[node_id] == \"3537\":\n",
        "    net.add_node((int(node_id)), label=node_id, color=\"#DFFE00\", x=nr_x[node_id], y=nr_y[node_id]) # Borean tundra\n",
        "  elif nr_zones[node_id] == \"394\":\n",
        "    net.add_node((int(node_id)), label=node_id, color=\"#265828\", x=nr_x[node_id], y=nr_y[node_id]) # Grizzly hills\n",
        "  elif nr_zones[node_id] == \"495\":\n",
        "    net.add_node((int(node_id)), label=node_id, color=\"#6a4a3a\", x=nr_x[node_id], y=nr_y[node_id]) # Howling fjord\n",
        "  elif nr_zones[node_id] == \"210\":\n",
        "    net.add_node((int(node_id)), label=node_id, color=\"#3155a8\", x=nr_x[node_id], y=nr_y[node_id]) # Icecrown\n",
        "  elif nr_zones[node_id] == \"66\":\n",
        "    net.add_node((int(node_id)), label=node_id, color=\"#eb4034\", x=nr_x[node_id], y=nr_y[node_id]) # Zul'drak\n",
        "  elif nr_zones[node_id] == \"67\":\n",
        "    net.add_node((int(node_id)), label=node_id, color=\"#C8AD7E\", x=nr_x[node_id], y=nr_y[node_id]) # Storm peaks\n",
        "  elif nr_zones[node_id] == \"65\":\n",
        "    net.add_node((int(node_id)), label=node_id, color=\"#9a31a8\", x=nr_x[node_id], y=nr_y[node_id]) # Dragonblight\n",
        "  elif nr_zones[node_id] == \"2817\":\n",
        "    net.add_node((int(node_id)), label=node_id, color=\"#ff781f\", x=nr_x[node_id], y=nr_y[node_id]) # Crystalsong\n",
        "  else:\n",
        "    net.add_node((int(node_id)), label=node_id, x=nr_x[node_id], y=nr_y[node_id]) # Shouldn't happen!\n",
        "\n",
        "for node_id, node_links in nr_vertices.items():\n",
        "  for link in node_links:\n",
        "    if link in nr_vertices.keys():\n",
        "      if nr_zones[node_id] != nr_zones[link]:\n",
        "        # Mark forks to other zones with another weight\n",
        "        net.add_edge(int(node_id), int(link), value=4)\n",
        "      else:\n",
        "        net.add_edge(int(node_id), int(link))\n",
        "\n",
        "net.show('northrend_wander_nodes.html')"
      ],
      "metadata": {
        "colab": {
          "base_uri": "https://localhost:8080/",
          "height": 676
        },
        "id": "-oI_5I4nFu3s",
        "outputId": "a55ae384-142b-4d41-8bf4-0bfb8bb99ece"
      },
      "execution_count": 63,
      "outputs": [
        {
          "output_type": "stream",
          "name": "stdout",
          "text": [
            "Warning: When  cdn_resources is 'local' jupyter notebook has issues displaying graphics on chrome/safari. Use cdn_resources='in_line' or cdn_resources='remote' if you have issues viewing graphics in a notebook.\n",
            "northrend_wander_nodes.html\n"
          ]
        },
        {
          "output_type": "execute_result",
          "data": {
            "text/plain": [
              "<IPython.lib.display.IFrame at 0x7f15fbbed300>"
            ],
            "text/html": [
              "\n",
              "        <iframe\n",
              "            width=\"100%\"\n",
              "            height=\"600px\"\n",
              "            src=\"northrend_wander_nodes.html\"\n",
              "            frameborder=\"0\"\n",
              "            allowfullscreen\n",
              "            \n",
              "        ></iframe>\n",
              "        "
            ]
          },
          "metadata": {},
          "execution_count": 63
        }
      ]
    },
    {
      "cell_type": "markdown",
      "source": [
        "#Pyvis example"
      ],
      "metadata": {
        "id": "jqcMPT5Lgupu"
      }
    },
    {
      "cell_type": "code",
      "source": [
        "from pyvis.network import Network\n",
        "\n",
        "#net = Network()\n",
        "net = Network(notebook=True) # For notebook\n",
        "\n",
        "net.add_node(1, label='Alex')\n",
        "net.add_node(2, label='Cathy')\n",
        "\n",
        "# List usage:\n",
        "#net.add_nodes([1, 2], label=['Alex', 'Carthy'])\n",
        "#net.show('list_of_nodes.html')\n",
        "\n",
        "# Adding some nodes and colors\n",
        "net.add_nodes([3, 4, 5, 6], \n",
        "              label=['Michael', 'Ben', 'Oliver', 'Olivia'],\n",
        "              color=['#3da831', '#9a31a8', '#3155a8', '#eb4034'])\n",
        "\n",
        "# Adding edges:\n",
        "net.add_edge(1, 5)\n",
        "\n",
        "# Multiple edges:\n",
        "net.add_edges([(2, 5), (3, 4), (1, 6), (2, 6), (3, 5)])\n",
        "\n",
        "\"\"\"\n",
        "Cool! But what if some edges have larger weights than the others \n",
        "(.i.e, Oliver might like Alex more than Michael)?\n",
        "We can specify the weight of each edge by adding the parameter \n",
        "value to add_edge or by adding the third value to each tuple of add_edges.\n",
        "\"\"\"\n",
        "# Edges with weights:\n",
        "#net.add_edge(1, 5, value=2)\n",
        "#net.add_edges([(2, 5, 5), (3, 4, 2), (1, 6), (2, 6), (3, 5)])\n",
        "\n",
        "# Increase spring length:\n",
        "#net.repulsion(node_distance=100, spring_length=1000)\n",
        "\n",
        "# Increase node distance:\n",
        "#net.repulsion(node_distance=500, spring_length=200)\n",
        "\n",
        "# Default:\n",
        "net.repulsion(node_distance=100, spring_length=200)\n",
        "\n",
        "net.show('nodes.html')"
      ],
      "metadata": {
        "colab": {
          "base_uri": "https://localhost:8080/",
          "height": 676
        },
        "id": "Bi7ZIrH4FRjK",
        "outputId": "5ef65946-7b0f-440c-9808-a199a31661d8"
      },
      "execution_count": null,
      "outputs": [
        {
          "output_type": "stream",
          "name": "stdout",
          "text": [
            "Warning: When  cdn_resources is 'local' jupyter notebook has issues displaying graphics on chrome/safari. Use cdn_resources='in_line' or cdn_resources='remote' if you have issues viewing graphics in a notebook.\n",
            "nodes.html\n"
          ]
        },
        {
          "output_type": "execute_result",
          "data": {
            "text/plain": [
              "<IPython.lib.display.IFrame at 0x7f16251ab040>"
            ],
            "text/html": [
              "\n",
              "        <iframe\n",
              "            width=\"100%\"\n",
              "            height=\"600px\"\n",
              "            src=\"nodes.html\"\n",
              "            frameborder=\"0\"\n",
              "            allowfullscreen\n",
              "            \n",
              "        ></iframe>\n",
              "        "
            ]
          },
          "metadata": {},
          "execution_count": 3
        }
      ]
    }
  ]
}