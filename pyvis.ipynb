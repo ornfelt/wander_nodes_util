{
  "nbformat": 4,
  "nbformat_minor": 0,
  "metadata": {
    "colab": {
      "provenance": []
    },
    "kernelspec": {
      "name": "python3",
      "display_name": "Python 3"
    },
    "language_info": {
      "name": "python"
    }
  },
  "cells": [
    {
      "cell_type": "markdown",
      "source": [
        "Inspiration: https://towardsdatascience.com/pyvis-visualize-interactive-network-graphs-in-python-77e059791f01"
      ],
      "metadata": {
        "id": "rPrkwy01FJ1a"
      }
    },
    {
      "cell_type": "code",
      "execution_count": null,
      "metadata": {
        "colab": {
          "base_uri": "https://localhost:8080/"
        },
        "id": "xygAj1h0FF8q",
        "outputId": "712782bd-4257-4799-a941-be28f3baa5ba"
      },
      "outputs": [
        {
          "output_type": "stream",
          "name": "stdout",
          "text": [
            "Collecting pyvis\n",
            "  Downloading pyvis-0.3.2-py3-none-any.whl (756 kB)\n",
            "\u001b[?25l     \u001b[90m━━━━━━━━━━━━━━━━━━━━━━━━━━━━━━━━━━━━━━━━\u001b[0m \u001b[32m0.0/756.0 kB\u001b[0m \u001b[31m?\u001b[0m eta \u001b[36m-:--:--\u001b[0m\r\u001b[2K     \u001b[90m━━━━━━━━━━━━━━━━━━━━━━━━━━━━━━━━━━━━━━\u001b[0m \u001b[32m756.0/756.0 kB\u001b[0m \u001b[31m22.6 MB/s\u001b[0m eta \u001b[36m0:00:00\u001b[0m\n",
            "\u001b[?25hRequirement already satisfied: ipython>=5.3.0 in /usr/local/lib/python3.10/dist-packages (from pyvis) (7.34.0)\n",
            "Requirement already satisfied: jinja2>=2.9.6 in /usr/local/lib/python3.10/dist-packages (from pyvis) (3.1.2)\n",
            "Requirement already satisfied: jsonpickle>=1.4.1 in /usr/local/lib/python3.10/dist-packages (from pyvis) (3.0.1)\n",
            "Requirement already satisfied: networkx>=1.11 in /usr/local/lib/python3.10/dist-packages (from pyvis) (3.1)\n",
            "Requirement already satisfied: setuptools>=18.5 in /usr/local/lib/python3.10/dist-packages (from ipython>=5.3.0->pyvis) (67.7.2)\n",
            "Collecting jedi>=0.16 (from ipython>=5.3.0->pyvis)\n",
            "  Downloading jedi-0.18.2-py2.py3-none-any.whl (1.6 MB)\n",
            "\u001b[2K     \u001b[90m━━━━━━━━━━━━━━━━━━━━━━━━━━━━━━━━━━━━━━━━\u001b[0m \u001b[32m1.6/1.6 MB\u001b[0m \u001b[31m63.1 MB/s\u001b[0m eta \u001b[36m0:00:00\u001b[0m\n",
            "\u001b[?25hRequirement already satisfied: decorator in /usr/local/lib/python3.10/dist-packages (from ipython>=5.3.0->pyvis) (4.4.2)\n",
            "Requirement already satisfied: pickleshare in /usr/local/lib/python3.10/dist-packages (from ipython>=5.3.0->pyvis) (0.7.5)\n",
            "Requirement already satisfied: traitlets>=4.2 in /usr/local/lib/python3.10/dist-packages (from ipython>=5.3.0->pyvis) (5.7.1)\n",
            "Requirement already satisfied: prompt-toolkit!=3.0.0,!=3.0.1,<3.1.0,>=2.0.0 in /usr/local/lib/python3.10/dist-packages (from ipython>=5.3.0->pyvis) (3.0.39)\n",
            "Requirement already satisfied: pygments in /usr/local/lib/python3.10/dist-packages (from ipython>=5.3.0->pyvis) (2.14.0)\n",
            "Requirement already satisfied: backcall in /usr/local/lib/python3.10/dist-packages (from ipython>=5.3.0->pyvis) (0.2.0)\n",
            "Requirement already satisfied: matplotlib-inline in /usr/local/lib/python3.10/dist-packages (from ipython>=5.3.0->pyvis) (0.1.6)\n",
            "Requirement already satisfied: pexpect>4.3 in /usr/local/lib/python3.10/dist-packages (from ipython>=5.3.0->pyvis) (4.8.0)\n",
            "Requirement already satisfied: MarkupSafe>=2.0 in /usr/local/lib/python3.10/dist-packages (from jinja2>=2.9.6->pyvis) (2.1.3)\n",
            "Requirement already satisfied: parso<0.9.0,>=0.8.0 in /usr/local/lib/python3.10/dist-packages (from jedi>=0.16->ipython>=5.3.0->pyvis) (0.8.3)\n",
            "Requirement already satisfied: ptyprocess>=0.5 in /usr/local/lib/python3.10/dist-packages (from pexpect>4.3->ipython>=5.3.0->pyvis) (0.7.0)\n",
            "Requirement already satisfied: wcwidth in /usr/local/lib/python3.10/dist-packages (from prompt-toolkit!=3.0.0,!=3.0.1,<3.1.0,>=2.0.0->ipython>=5.3.0->pyvis) (0.2.6)\n",
            "Installing collected packages: jedi, pyvis\n",
            "Successfully installed jedi-0.18.2 pyvis-0.3.2\n"
          ]
        }
      ],
      "source": [
        "!pip install pyvis"
      ]
    },
    {
      "cell_type": "code",
      "source": [
        "class Pos:\n",
        "    def __init__(self, x=0, y=0):\n",
        "        self.x = x\n",
        "        self.y = y\n",
        "\n",
        "def get_player_position(x, y, m):\n",
        "    pos = Pos()\n",
        "    where_530 = 0\n",
        "    x = round(x)\n",
        "    y = round(y)\n",
        "\n",
        "    if m == 530:\n",
        "        if -1000 < y < -10000 and x > 5000:  # BE\n",
        "            x -= 10349\n",
        "            y += 6357\n",
        "            where_530 = 1\n",
        "        elif y < -7000 and x < 0:  # Dr\n",
        "            x += 3961\n",
        "            y += 13931\n",
        "            where_530 = 2\n",
        "        else:  # Outland\n",
        "            x -= 3070\n",
        "            y -= 1265\n",
        "            where_530 = 3\n",
        "    elif m == 609:\n",
        "        x -= 2355\n",
        "        y += 5662\n",
        "\n",
        "    if where_530 == 3:  # Outland\n",
        "        xpos = round(x * 0.051446)\n",
        "        ypos = round(y * 0.051446)\n",
        "    elif m == 571:  # Northrend\n",
        "        xpos = round(x * 0.050085)\n",
        "        ypos = round(y * 0.050085)\n",
        "    else:  # Azeroth\n",
        "        xpos = round(x * 0.025140)\n",
        "        ypos = round(y * 0.025140)\n",
        "\n",
        "    #if m == '530':\n",
        "    if m == 530:\n",
        "        if where_530 == 1:\n",
        "            pos.x = 858 - ypos\n",
        "            pos.y = 84 - xpos\n",
        "        elif where_530 == 2:\n",
        "            pos.x = 103 - ypos\n",
        "            pos.y = 261 - xpos\n",
        "        elif where_530 == 3:\n",
        "            pos.x = 684 - ypos\n",
        "            pos.y = 229 - xpos\n",
        "    #elif m == '571':\n",
        "    elif m == 571:\n",
        "        pos.x = 505 - ypos\n",
        "        pos.y = 642 - xpos\n",
        "    #elif m == '609':\n",
        "    elif m == 609:\n",
        "        pos.x = 896 - ypos\n",
        "        pos.y = 232 - xpos\n",
        "    #elif m == '1':\n",
        "    elif m == 1:\n",
        "        pos.x = 194 - ypos\n",
        "        pos.y = 398 - xpos\n",
        "    #elif m == '0':\n",
        "    elif m == 0:\n",
        "        pos.x = 752 - ypos\n",
        "        pos.y = 291 - xpos\n",
        "    else:\n",
        "        pos.x = 194 - ypos\n",
        "        pos.y = 398 - xpos\n",
        "\n",
        "    return pos\n",
        "\n",
        "test_pos = get_player_position(-2105.56,6746.75, 530)\n",
        "print(test_pos.x, test_pos.y);\n",
        "test_pos = get_player_position(-2288.2,6747.21,530)\n",
        "print(test_pos.x, test_pos.y);\n",
        "test_pos = get_player_position(-2473.95,6475.78,530)\n",
        "print(test_pos.x, test_pos.y);"
      ],
      "metadata": {
        "colab": {
          "base_uri": "https://localhost:8080/"
        },
        "id": "WYfd7XYjB9eN",
        "outputId": "fd62329c-ab9f-4649-bc39-fe98275b9f5b"
      },
      "execution_count": null,
      "outputs": [
        {
          "output_type": "stream",
          "name": "stdout",
          "text": [
            "402 495\n",
            "402 505\n",
            "416 514\n"
          ]
        }
      ]
    },
    {
      "cell_type": "code",
      "source": [
        "with open(\"2023_04_25_00_outland_complete.sql\") as file:\n",
        "    ol_lines = [line.rstrip() for line in file]\n",
        "    #print(ol_lines)\n",
        "\n",
        "with open(\"2023_05_14_00_northrend_complete.sql\") as file:\n",
        "    nr_lines = [line.rstrip() for line in file]\n",
        "    #print(nr_lines)\n",
        "\n",
        "ol_vertices = {}\n",
        "ol_zones = {}\n",
        "ol_x = {}\n",
        "ol_y = {}\n",
        "# Loop Outland nodes\n",
        "for line in ol_lines:\n",
        "  if len(line) > 0 and line[0] == '(':\n",
        "    map_id = line.split(\",\")[2]\n",
        "    if map_id == \"530\": # Outland Map ID\n",
        "      node_id = line.split('(')[1].split(',')[0]\n",
        "      #print(node_id)\n",
        "      #node_links = line.split(\"'\")[3].replace(\":0\", \"\")\n",
        "      #node_links = node_links.rstrip(node_links[-1]).split(\" \")\n",
        "      node_links = line.split(\"'\")[3].replace(\":0\", \"\")[:-1].split(\" \")\n",
        "      #print(node_links)\n",
        "      ol_vertices[node_id] = node_links\n",
        "\n",
        "      # Also add zone_ids\n",
        "      zone_id = line.split(\",\")[3]\n",
        "      ol_zones[node_id] = zone_id\n",
        "      # Add x and y\n",
        "      node_x = line.split(\",\")[8]\n",
        "      node_y = line.split(\",\")[9]\n",
        "      node_pos = get_player_position(float(node_x), float(node_y), int(map_id))\n",
        "      ol_x[node_id] = node_pos.x\n",
        "      ol_y[node_id] = node_pos.y\n",
        "\n",
        "nr_vertices = {}\n",
        "nr_zones = {}\n",
        "nr_x = {}\n",
        "nr_y = {}\n",
        "# Loop Northrend nodes (some northrend lines are in outland file, so first check that one)\n",
        "for line in ol_lines:\n",
        "  if len(line) > 0 and line[0] == '(':\n",
        "    map_id = line.split(\",\")[2]\n",
        "    if map_id == \"571\": # Northrend Map ID\n",
        "      node_id = line.split('(')[1].split(',')[0]\n",
        "      #print(node_id)\n",
        "      #node_links = line.split(\"'\")[3].replace(\":0\", \"\")\n",
        "      #node_links = node_links.rstrip(node_links[-1]).split(\" \")\n",
        "      node_links = line.split(\"'\")[3].replace(\":0\", \"\")[:-1].split(\" \")\n",
        "      #print(node_links)\n",
        "      nr_vertices[node_id] = node_links\n",
        "\n",
        "      # Also add zone_ids\n",
        "      zone_id = line.split(\",\")[3]\n",
        "      nr_zones[node_id] = zone_id\n",
        "      # Add x and y\n",
        "      node_x = line.split(\",\")[8]\n",
        "      node_y = line.split(\",\")[9]\n",
        "      node_pos = get_player_position(float(node_x), float(node_y), int(map_id))\n",
        "      nr_x[node_id] = node_pos.x\n",
        "      nr_y[node_id] = node_pos.y\n",
        "\n",
        "for line in nr_lines:\n",
        "  if len(line) > 0 and line[0] == '(':\n",
        "    map_id = line.split(\",\")[2]\n",
        "    if map_id == \"571\": # Northrend Map ID\n",
        "      node_id = line.split('(')[1].split(',')[0]\n",
        "      #print(node_id)\n",
        "      #node_links = line.split(\"'\")[3].replace(\":0\", \"\")\n",
        "      #node_links = node_links.rstrip(node_links[-1]).split(\" \")\n",
        "      node_links = line.split(\"'\")[3].replace(\":0\", \"\")[:-1].split(\" \")\n",
        "      #print(node_links)\n",
        "      nr_vertices[node_id] = node_links\n",
        "\n",
        "      # Also add zone_ids\n",
        "      zone_id = line.split(\",\")[3]\n",
        "      nr_zones[node_id] = zone_id\n",
        "      # Add x and y\n",
        "      node_x = line.split(\",\")[8]\n",
        "      node_y = line.split(\",\")[9]\n",
        "      node_pos = get_player_position(float(node_x), float(node_y), int(map_id))\n",
        "      nr_x[node_id] = node_pos.x\n",
        "      nr_y[node_id] = node_pos.y\n",
        "\n",
        "print(ol_x[\"2418\"])\n",
        "print(ol_y[\"2418\"])\n",
        "\n",
        "# Northrend\n",
        "print(nr_x[\"2703\"])\n",
        "print(nr_y[\"2703\"])"
      ],
      "metadata": {
        "colab": {
          "base_uri": "https://localhost:8080/"
        },
        "id": "3IelXeIEgRHH",
        "outputId": "5572d4eb-6583-408c-dc0f-276d82d246d4"
      },
      "execution_count": null,
      "outputs": [
        {
          "output_type": "stream",
          "name": "stdout",
          "text": [
            "402\n",
            "495\n",
            "233\n",
            "528\n"
          ]
        }
      ]
    },
    {
      "cell_type": "markdown",
      "source": [
        "#Outland"
      ],
      "metadata": {
        "id": "jfwexkEnFjWx"
      }
    },
    {
      "cell_type": "code",
      "source": [
        "from pyvis.network import Network\n",
        "\n",
        "#net = Network()\n",
        "# Some example options:\n",
        "#net = Network(height='100%', width='100%', bgcolor='#222222', font_color='white', directed=True)\n",
        "#net = Network(notebook=True) # For notebook\n",
        "# Non-directed\n",
        "#net = Network(notebook=True, bgcolor='#222222', font_color='white')\n",
        "net = Network(notebook=True, bgcolor='#222222', font_color='white', directed=True)\n",
        "\n",
        "for node_id in ol_vertices.keys():\n",
        "  #net.add_node((int(node_id)), label=node_id)\n",
        "  if ol_zones[node_id] == \"3518\":\n",
        "    net.add_node((int(node_id)), label=node_id, color=\"#4caf50\", x=ol_x[node_id], y=ol_y[node_id]) # Nagrand\n",
        "  elif ol_zones[node_id] == \"3519\":\n",
        "    net.add_node((int(node_id)), label=node_id, color=\"#265828\", x=ol_x[node_id], y=ol_y[node_id]) # Terokkar forest\n",
        "  elif ol_zones[node_id] == \"3520\":\n",
        "    net.add_node((int(node_id)), label=node_id, color=\"#DFFE00\", x=ol_x[node_id], y=ol_y[node_id]) # Shadowmoon Valley\n",
        "  elif ol_zones[node_id] == \"3521\":\n",
        "    net.add_node((int(node_id)), label=node_id, color=\"#3155a8\", x=ol_x[node_id], y=ol_y[node_id]) # Zangarmarsh\n",
        "  elif ol_zones[node_id] == \"3483\":\n",
        "    net.add_node((int(node_id)), label=node_id, color=\"#eb4034\", x=ol_x[node_id], y=ol_y[node_id]) # Hellfire\n",
        "  elif ol_zones[node_id] == \"3522\":\n",
        "    net.add_node((int(node_id)), label=node_id, color=\"#C8AD7E\", x=ol_x[node_id], y=ol_y[node_id]) # Blade's edge\n",
        "  elif ol_zones[node_id] == \"3523\":\n",
        "    net.add_node((int(node_id)), label=node_id, color=\"#9a31a8\", x=ol_x[node_id], y=ol_y[node_id]) # Netherstorm\n",
        "  else:\n",
        "    net.add_node((int(node_id)), label=node_id, x=ol_x[node_id], y=ol_y[node_id]) # Shattrath (3703)\n",
        "\n",
        "for node_id, node_links in ol_vertices.items():\n",
        "  for link in node_links:\n",
        "    if link in ol_vertices.keys():\n",
        "      if ol_zones[node_id] != ol_zones[link]:\n",
        "        # Mark forks to other zones with another weight\n",
        "        net.add_edge(int(node_id), int(link), value=4)\n",
        "      else:\n",
        "        net.add_edge(int(node_id), int(link))\n",
        "\n",
        "net.show('outland_wander_nodes.html')"
      ],
      "metadata": {
        "colab": {
          "base_uri": "https://localhost:8080/",
          "height": 676
        },
        "id": "1UkV4AtRgpnk",
        "outputId": "44e2f321-8557-49bf-d206-12190c577e56"
      },
      "execution_count": null,
      "outputs": [
        {
          "output_type": "stream",
          "name": "stdout",
          "text": [
            "Warning: When  cdn_resources is 'local' jupyter notebook has issues displaying graphics on chrome/safari. Use cdn_resources='in_line' or cdn_resources='remote' if you have issues viewing graphics in a notebook.\n",
            "outland_wander_nodes.html\n"
          ]
        },
        {
          "output_type": "execute_result",
          "data": {
            "text/plain": [
              "<IPython.lib.display.IFrame at 0x7f3bdb515480>"
            ],
            "text/html": [
              "\n",
              "        <iframe\n",
              "            width=\"100%\"\n",
              "            height=\"600px\"\n",
              "            src=\"outland_wander_nodes.html\"\n",
              "            frameborder=\"0\"\n",
              "            allowfullscreen\n",
              "            \n",
              "        ></iframe>\n",
              "        "
            ]
          },
          "metadata": {},
          "execution_count": 8
        }
      ]
    },
    {
      "cell_type": "markdown",
      "source": [
        "#Northrend"
      ],
      "metadata": {
        "id": "PB2provNFlLo"
      }
    },
    {
      "cell_type": "code",
      "source": [
        "from pyvis.network import Network\n",
        "\n",
        "# Non-directed\n",
        "#net = Network(notebook=True, bgcolor='#222222', font_color='white')\n",
        "net = Network(notebook=True, bgcolor='#222222', font_color='white', directed=True)\n",
        "\n",
        "for node_id in nr_vertices.keys():\n",
        "  #net.add_node((int(node_id)), label=node_id)\n",
        "  if nr_zones[node_id] == \"3711\":\n",
        "    net.add_node((int(node_id)), label=node_id, color=\"#4caf50\", x=nr_x[node_id], y=nr_y[node_id]) # Sholazar basin\n",
        "  elif nr_zones[node_id] == \"3537\":\n",
        "    net.add_node((int(node_id)), label=node_id, color=\"#DFFE00\", x=nr_x[node_id], y=nr_y[node_id]) # Borean tundra\n",
        "  elif nr_zones[node_id] == \"394\":\n",
        "    net.add_node((int(node_id)), label=node_id, color=\"#265828\", x=nr_x[node_id], y=nr_y[node_id]) # Grizzly hills\n",
        "  elif nr_zones[node_id] == \"495\":\n",
        "    net.add_node((int(node_id)), label=node_id, color=\"#6a4a3a\", x=nr_x[node_id], y=nr_y[node_id]) # Howling fjord\n",
        "  elif nr_zones[node_id] == \"210\":\n",
        "    net.add_node((int(node_id)), label=node_id, color=\"#3155a8\", x=nr_x[node_id], y=nr_y[node_id]) # Icecrown\n",
        "  elif nr_zones[node_id] == \"66\":\n",
        "    net.add_node((int(node_id)), label=node_id, color=\"#eb4034\", x=nr_x[node_id], y=nr_y[node_id]) # Zul'drak\n",
        "  elif nr_zones[node_id] == \"67\":\n",
        "    net.add_node((int(node_id)), label=node_id, color=\"#C8AD7E\", x=nr_x[node_id], y=nr_y[node_id]) # Storm peaks\n",
        "  elif nr_zones[node_id] == \"65\":\n",
        "    net.add_node((int(node_id)), label=node_id, color=\"#9a31a8\", x=nr_x[node_id], y=nr_y[node_id]) # Dragonblight\n",
        "  elif nr_zones[node_id] == \"2817\":\n",
        "    net.add_node((int(node_id)), label=node_id, color=\"#ff781f\", x=nr_x[node_id], y=nr_y[node_id]) # Crystalsong\n",
        "  else:\n",
        "    net.add_node((int(node_id)), label=node_id, x=nr_x[node_id], y=nr_y[node_id]) # Shouldn't happen!\n",
        "\n",
        "for node_id, node_links in nr_vertices.items():\n",
        "  for link in node_links:\n",
        "    if link in nr_vertices.keys():\n",
        "      if nr_zones[node_id] != nr_zones[link]:\n",
        "        # Mark forks to other zones with another weight\n",
        "        net.add_edge(int(node_id), int(link), value=4)\n",
        "      else:\n",
        "        net.add_edge(int(node_id), int(link))\n",
        "\n",
        "net.show('northrend_wander_nodes.html')"
      ],
      "metadata": {
        "colab": {
          "base_uri": "https://localhost:8080/",
          "height": 676
        },
        "id": "-oI_5I4nFu3s",
        "outputId": "d7216383-b58e-415a-d1bb-1fb640d689c6"
      },
      "execution_count": null,
      "outputs": [
        {
          "output_type": "stream",
          "name": "stdout",
          "text": [
            "Warning: When  cdn_resources is 'local' jupyter notebook has issues displaying graphics on chrome/safari. Use cdn_resources='in_line' or cdn_resources='remote' if you have issues viewing graphics in a notebook.\n",
            "northrend_wander_nodes.html\n"
          ]
        },
        {
          "output_type": "execute_result",
          "data": {
            "text/plain": [
              "<IPython.lib.display.IFrame at 0x7f3bbe51a710>"
            ],
            "text/html": [
              "\n",
              "        <iframe\n",
              "            width=\"100%\"\n",
              "            height=\"600px\"\n",
              "            src=\"northrend_wander_nodes.html\"\n",
              "            frameborder=\"0\"\n",
              "            allowfullscreen\n",
              "            \n",
              "        ></iframe>\n",
              "        "
            ]
          },
          "metadata": {},
          "execution_count": 9
        }
      ]
    },
    {
      "cell_type": "markdown",
      "source": [
        "#Azeroth (Trickerer's nodes)"
      ],
      "metadata": {
        "id": "e5bnbT4LFfa9"
      }
    },
    {
      "cell_type": "code",
      "source": [
        "with open(\"wander_nodes.txt\") as file:\n",
        "    az_lines = [line.rstrip() for line in file]\n",
        "    #print(nr_lines)\n",
        "\n",
        "az_vertices = {}\n",
        "az_maps = {}\n",
        "az_zones = {}\n",
        "az_x = {}\n",
        "az_y = {}\n",
        "should_print = False\n",
        "loop_count = 0\n",
        "# Loop Azeroth nodes\n",
        "for line in az_lines:\n",
        "  if loop_count < 10:\n",
        "    should_print = True\n",
        "  else:\n",
        "    should_print = False\n",
        "  #if len(line) > 0 and line[0] == '\"':\n",
        "  if len(line) > 0:\n",
        "    map_id = line.split(\",\")[2].replace('\"', '')\n",
        "    if should_print:\n",
        "      print(\"map_id:\",map_id)\n",
        "    if map_id == \"0\" or map_id == \"1\": # Azeroth Map ID\n",
        "      node_id = line.split(',')[0].replace('\"', '')\n",
        "      if int(node_id) > 2371: # Skip BG's\n",
        "        break\n",
        "      if should_print:\n",
        "        print(\"node_id:\",node_id)\n",
        "      az_maps[node_id] = map_id\n",
        "      #node_links = line.split(\"'\")[3].replace(\":0\", \"\")[:-1].split(\" \")\n",
        "      cit_split = line.split('\"')\n",
        "      node_links = cit_split[len(cit_split)-2].replace(\":0\", \"\")[:-1].split(\" \")\n",
        "      if should_print:\n",
        "        print(node_links)\n",
        "      az_vertices[node_id] = node_links\n",
        "\n",
        "      # Also add zone_ids\n",
        "      zone_id = line.split(\",\")[3].replace('\"', '')\n",
        "      if should_print:\n",
        "        print(\"zone_id:\",zone_id)\n",
        "      az_zones[node_id] = zone_id\n",
        "      # Add x and y\n",
        "      node_x = line.split(\",\")[8].replace('\"', '')\n",
        "      node_y = line.split(\",\")[9].replace('\"', '')\n",
        "      node_pos = get_player_position(float(node_x), float(node_y), int(map_id))\n",
        "      az_x[node_id] = node_pos.x\n",
        "      az_y[node_id] = node_pos.y\n",
        "      loop_count += 1\n",
        "\n",
        "print()\n",
        "print(az_x[\"1\"])\n",
        "print(az_y[\"1\"])"
      ],
      "metadata": {
        "colab": {
          "base_uri": "https://localhost:8080/"
        },
        "id": "Ptq7Kp1wFYUN",
        "outputId": "66826005-2836-4d6f-86c6-ed57faa74b4f"
      },
      "execution_count": null,
      "outputs": [
        {
          "output_type": "stream",
          "name": "stdout",
          "text": [
            "map_id: 0\n",
            "node_id: 1\n",
            "['542']\n",
            "zone_id: 1\n",
            "map_id: 0\n",
            "node_id: 2\n",
            "['18', '277', '278', '279', '281']\n",
            "zone_id: 85\n",
            "map_id: 0\n",
            "node_id: 3\n",
            "['783', '784', '787', '788', '789']\n",
            "zone_id: 10\n",
            "map_id: 0\n",
            "node_id: 4\n",
            "['295', '296']\n",
            "zone_id: 85\n",
            "map_id: 0\n",
            "node_id: 5\n",
            "['483']\n",
            "zone_id: 11\n",
            "map_id: 0\n",
            "node_id: 6\n",
            "['444']\n",
            "zone_id: 11\n",
            "map_id: 0\n",
            "node_id: 7\n",
            "['88', '71', '16', '42', '72', '710', '709', '714', '717']\n",
            "zone_id: 12\n",
            "map_id: 0\n",
            "node_id: 8\n",
            "['559', '560']\n",
            "zone_id: 1\n",
            "map_id: 0\n",
            "node_id: 9\n",
            "['537', '545', '557']\n",
            "zone_id: 1\n",
            "map_id: 0\n",
            "node_id: 10\n",
            "['665', '666']\n",
            "zone_id: 44\n",
            "\n",
            "742\n",
            "444\n"
          ]
        }
      ]
    },
    {
      "cell_type": "code",
      "source": [
        "print(len(set(az_zones)))\n",
        "print(az_maps)"
      ],
      "metadata": {
        "colab": {
          "base_uri": "https://localhost:8080/"
        },
        "id": "8Ofz8GALPYBa",
        "outputId": "aedd06fc-abde-4496-9c95-7160e0f00b13"
      },
      "execution_count": null,
      "outputs": [
        {
          "output_type": "stream",
          "name": "stdout",
          "text": [
            "2321\n",
            "{'1': '0', '2': '0', '3': '0', '4': '0', '5': '0', '6': '0', '7': '0', '8': '0', '9': '0', '10': '0', '11': '0', '12': '0', '13': '0', '14': '0', '15': '0', '16': '0', '17': '0', '18': '0', '19': '0', '20': '0', '21': '0', '22': '0', '23': '0', '24': '0', '25': '0', '26': '1', '27': '1', '28': '1', '29': '1', '30': '1', '31': '1', '32': '1', '33': '1', '34': '1', '35': '1', '36': '0', '37': '0', '38': '1', '39': '1', '40': '1', '41': '1', '42': '0', '44': '0', '45': '1', '46': '1', '48': '0', '50': '1', '51': '0', '52': '1', '53': '1', '54': '1', '55': '0', '56': '1', '57': '1', '58': '1', '59': '1', '60': '1', '62': '1', '63': '1', '64': '1', '66': '1', '67': '1', '69': '0', '70': '0', '71': '0', '72': '0', '73': '0', '74': '0', '75': '0', '76': '0', '77': '0', '78': '0', '79': '0', '80': '0', '81': '0', '82': '0', '83': '0', '84': '0', '85': '0', '86': '0', '87': '0', '88': '0', '89': '0', '91': '0', '92': '0', '93': '1', '94': '1', '95': '1', '96': '1', '98': '1', '99': '1', '100': '1', '101': '1', '102': '1', '103': '1', '104': '1', '105': '1', '106': '1', '107': '1', '108': '1', '109': '1', '110': '1', '111': '1', '112': '1', '113': '1', '114': '1', '115': '1', '116': '1', '117': '1', '118': '1', '119': '1', '121': '1', '122': '1', '123': '1', '124': '0', '127': '1', '128': '1', '129': '1', '130': '1', '131': '1', '132': '1', '133': '1', '134': '1', '135': '1', '136': '1', '137': '1', '138': '0', '139': '0', '140': '1', '142': '1', '143': '1', '144': '1', '145': '1', '147': '1', '148': '1', '149': '1', '150': '1', '151': '1', '152': '1', '153': '1', '154': '1', '155': '1', '156': '1', '157': '1', '158': '1', '159': '1', '160': '1', '161': '1', '162': '1', '163': '1', '164': '1', '165': '1', '166': '1', '167': '1', '168': '1', '169': '1', '170': '0', '171': '0', '172': '0', '173': '0', '174': '1', '175': '1', '177': '1', '178': '1', '179': '0', '180': '0', '183': '0', '184': '1', '185': '0', '186': '0', '187': '1', '188': '1', '189': '1', '191': '1', '192': '1', '193': '1', '196': '0', '199': '0', '200': '0', '201': '0', '211': '0', '230': '0', '233': '1', '234': '0', '235': '0', '236': '0', '237': '0', '238': '0', '239': '0', '240': '0', '241': '0', '242': '0', '243': '0', '244': '0', '245': '0', '246': '0', '247': '0', '248': '0', '249': '0', '250': '0', '251': '0', '252': '0', '253': '0', '254': '0', '255': '0', '256': '0', '257': '0', '258': '0', '259': '0', '260': '0', '261': '0', '262': '0', '263': '0', '264': '0', '265': '0', '266': '0', '267': '0', '268': '0', '269': '0', '270': '0', '271': '0', '272': '0', '273': '0', '274': '0', '275': '0', '276': '0', '277': '0', '278': '0', '279': '0', '280': '0', '281': '0', '282': '0', '283': '0', '284': '0', '285': '0', '286': '0', '287': '0', '288': '0', '289': '0', '290': '0', '291': '0', '292': '0', '293': '0', '294': '0', '295': '0', '296': '0', '297': '0', '298': '0', '299': '0', '300': '0', '301': '0', '302': '0', '303': '0', '304': '0', '305': '0', '306': '0', '307': '0', '308': '0', '309': '0', '310': '0', '311': '0', '312': '0', '313': '0', '314': '0', '315': '0', '316': '0', '317': '0', '318': '0', '319': '0', '320': '0', '321': '0', '322': '0', '323': '0', '324': '0', '325': '0', '326': '0', '327': '0', '328': '0', '329': '0', '330': '0', '331': '0', '332': '0', '333': '0', '334': '0', '335': '0', '336': '0', '337': '0', '338': '0', '339': '0', '340': '0', '341': '0', '342': '0', '343': '0', '344': '0', '345': '0', '346': '0', '347': '0', '348': '0', '349': '0', '350': '0', '351': '0', '352': '0', '353': '0', '354': '0', '355': '0', '356': '0', '357': '0', '358': '0', '359': '0', '360': '0', '361': '0', '362': '0', '363': '0', '364': '0', '365': '0', '366': '0', '367': '0', '368': '0', '369': '0', '370': '0', '371': '0', '372': '0', '373': '0', '374': '0', '375': '0', '376': '0', '377': '0', '378': '0', '379': '0', '380': '0', '381': '0', '382': '0', '383': '0', '384': '0', '385': '0', '386': '0', '387': '0', '388': '0', '389': '0', '390': '0', '391': '0', '392': '0', '393': '0', '394': '0', '395': '0', '396': '0', '397': '0', '398': '0', '399': '0', '400': '0', '401': '0', '402': '0', '403': '0', '404': '0', '405': '0', '406': '0', '407': '0', '408': '0', '409': '0', '410': '0', '411': '0', '412': '0', '413': '0', '414': '0', '415': '0', '416': '0', '417': '0', '418': '0', '419': '0', '420': '0', '421': '0', '422': '0', '423': '0', '424': '0', '425': '0', '426': '0', '427': '0', '428': '0', '429': '0', '430': '0', '431': '0', '432': '0', '433': '0', '434': '0', '435': '0', '436': '0', '437': '0', '438': '0', '439': '0', '440': '0', '441': '0', '442': '0', '443': '0', '444': '0', '445': '0', '446': '0', '447': '0', '448': '0', '449': '0', '450': '0', '451': '0', '452': '0', '453': '0', '454': '0', '455': '0', '456': '0', '457': '0', '458': '0', '459': '0', '460': '0', '461': '0', '462': '0', '463': '0', '464': '0', '465': '0', '466': '0', '467': '0', '468': '0', '469': '0', '470': '0', '471': '0', '472': '0', '473': '0', '474': '0', '475': '0', '476': '0', '477': '0', '478': '0', '479': '0', '480': '0', '481': '0', '482': '0', '483': '0', '484': '0', '485': '0', '486': '0', '487': '0', '488': '0', '489': '0', '490': '0', '491': '0', '492': '0', '493': '0', '494': '0', '495': '0', '496': '0', '497': '0', '498': '0', '499': '0', '500': '0', '501': '0', '502': '0', '503': '0', '504': '0', '505': '0', '506': '0', '507': '0', '508': '0', '509': '0', '510': '0', '511': '0', '512': '0', '513': '0', '514': '0', '515': '0', '516': '0', '517': '0', '518': '0', '519': '0', '520': '0', '521': '0', '522': '0', '523': '0', '524': '0', '525': '0', '526': '0', '527': '0', '528': '0', '529': '0', '530': '0', '531': '0', '532': '0', '533': '0', '534': '0', '535': '0', '536': '0', '537': '0', '538': '0', '539': '0', '540': '0', '541': '0', '542': '0', '543': '0', '544': '0', '545': '0', '546': '0', '547': '0', '548': '0', '549': '0', '550': '0', '551': '0', '552': '0', '553': '0', '554': '0', '555': '0', '556': '0', '557': '0', '558': '0', '559': '0', '560': '0', '561': '0', '562': '0', '563': '0', '564': '0', '565': '0', '566': '0', '567': '0', '568': '0', '569': '0', '570': '0', '571': '0', '572': '0', '573': '0', '574': '0', '575': '0', '576': '0', '577': '0', '578': '0', '579': '0', '580': '0', '581': '0', '582': '0', '583': '0', '584': '0', '585': '0', '586': '0', '587': '0', '588': '0', '589': '0', '590': '0', '591': '0', '592': '0', '593': '0', '594': '0', '595': '0', '596': '0', '597': '0', '598': '0', '599': '0', '600': '0', '601': '0', '602': '0', '603': '0', '604': '0', '605': '0', '606': '0', '607': '0', '608': '0', '609': '0', '610': '0', '611': '0', '612': '0', '613': '0', '614': '0', '615': '0', '616': '0', '617': '0', '618': '0', '619': '0', '620': '0', '621': '0', '622': '0', '623': '0', '624': '0', '625': '0', '626': '0', '627': '0', '628': '0', '629': '0', '630': '0', '631': '0', '632': '0', '633': '0', '634': '0', '635': '0', '636': '0', '637': '0', '638': '0', '639': '0', '640': '0', '641': '0', '642': '0', '643': '0', '644': '0', '645': '0', '646': '0', '647': '0', '648': '0', '649': '0', '650': '0', '651': '0', '652': '0', '653': '0', '654': '0', '655': '0', '656': '0', '657': '0', '658': '0', '659': '0', '660': '0', '661': '0', '662': '0', '663': '0', '664': '0', '665': '0', '666': '0', '667': '0', '668': '0', '669': '0', '670': '0', '671': '0', '672': '0', '673': '0', '674': '0', '675': '0', '676': '0', '677': '0', '678': '0', '679': '0', '680': '0', '681': '0', '682': '0', '683': '0', '684': '0', '685': '0', '686': '0', '687': '0', '688': '0', '689': '0', '690': '0', '691': '0', '692': '0', '693': '0', '694': '0', '695': '0', '696': '0', '697': '0', '698': '0', '699': '0', '700': '0', '701': '0', '702': '0', '703': '0', '704': '0', '705': '0', '706': '0', '707': '0', '708': '0', '709': '0', '710': '0', '711': '0', '712': '0', '713': '0', '714': '0', '715': '0', '716': '0', '717': '0', '718': '0', '719': '0', '720': '0', '721': '0', '722': '0', '723': '0', '724': '0', '725': '0', '726': '0', '727': '0', '728': '0', '729': '0', '730': '0', '731': '0', '732': '0', '733': '0', '734': '0', '735': '0', '736': '0', '737': '0', '738': '0', '739': '0', '740': '0', '741': '0', '742': '0', '743': '0', '744': '0', '745': '0', '746': '0', '747': '0', '748': '0', '749': '0', '750': '0', '751': '0', '752': '0', '753': '0', '754': '0', '755': '0', '756': '0', '757': '0', '758': '0', '759': '0', '760': '0', '761': '0', '762': '0', '763': '0', '764': '0', '765': '0', '766': '0', '767': '0', '768': '0', '769': '0', '770': '0', '771': '0', '772': '0', '773': '0', '774': '0', '775': '0', '776': '0', '777': '0', '778': '0', '779': '0', '780': '0', '781': '0', '782': '0', '783': '0', '784': '0', '785': '0', '786': '0', '787': '0', '788': '0', '789': '0', '790': '0', '791': '0', '792': '0', '793': '0', '794': '0', '795': '0', '796': '0', '797': '0', '798': '0', '799': '0', '800': '0', '801': '0', '802': '0', '803': '0', '804': '0', '805': '0', '806': '0', '807': '0', '808': '0', '809': '0', '810': '0', '811': '0', '812': '0', '813': '0', '814': '0', '815': '0', '816': '0', '817': '0', '818': '0', '819': '0', '820': '0', '821': '0', '822': '0', '823': '0', '824': '0', '825': '0', '826': '0', '827': '0', '828': '0', '829': '0', '830': '0', '831': '0', '832': '0', '833': '0', '834': '0', '835': '0', '836': '0', '837': '0', '838': '0', '839': '0', '840': '0', '841': '0', '842': '0', '843': '0', '844': '0', '845': '0', '846': '0', '847': '0', '848': '0', '849': '0', '850': '0', '851': '0', '852': '0', '853': '0', '854': '0', '855': '0', '856': '0', '857': '0', '858': '0', '859': '0', '860': '0', '861': '0', '862': '0', '863': '0', '864': '0', '865': '0', '866': '0', '867': '0', '868': '0', '869': '0', '870': '0', '871': '0', '872': '0', '873': '0', '874': '0', '875': '0', '876': '0', '877': '0', '878': '0', '879': '0', '880': '0', '881': '0', '882': '0', '883': '0', '884': '0', '885': '0', '886': '0', '887': '0', '888': '0', '889': '0', '890': '0', '891': '0', '892': '0', '893': '0', '894': '0', '895': '0', '896': '0', '897': '0', '898': '0', '899': '0', '900': '0', '901': '0', '902': '0', '903': '0', '904': '0', '905': '0', '906': '0', '907': '0', '908': '0', '909': '0', '910': '0', '911': '0', '912': '0', '913': '0', '914': '0', '915': '0', '916': '0', '917': '0', '918': '0', '919': '0', '920': '0', '921': '0', '922': '0', '923': '0', '924': '0', '925': '0', '926': '0', '927': '0', '928': '0', '929': '0', '930': '0', '931': '0', '932': '0', '933': '0', '934': '0', '935': '0', '936': '0', '937': '0', '938': '0', '939': '0', '940': '0', '941': '0', '942': '0', '943': '0', '944': '0', '945': '0', '946': '0', '947': '0', '948': '0', '949': '0', '950': '0', '951': '0', '952': '0', '953': '0', '954': '0', '955': '0', '956': '0', '957': '0', '958': '0', '959': '0', '960': '0', '961': '0', '962': '0', '963': '0', '964': '0', '965': '0', '966': '0', '967': '0', '968': '0', '969': '0', '970': '0', '971': '0', '972': '1', '973': '1', '974': '1', '975': '1', '976': '1', '977': '1', '978': '1', '979': '1', '980': '1', '981': '1', '982': '1', '983': '1', '984': '1', '985': '1', '986': '1', '987': '1', '988': '1', '989': '1', '990': '1', '991': '1', '992': '1', '993': '1', '994': '1', '995': '1', '996': '1', '997': '1', '998': '1', '999': '1', '1000': '1', '1001': '1', '1002': '1', '1003': '1', '1004': '1', '1005': '1', '1006': '1', '1007': '1', '1008': '1', '1009': '1', '1010': '1', '1011': '1', '1012': '1', '1013': '1', '1014': '1', '1015': '1', '1016': '1', '1017': '1', '1018': '1', '1019': '1', '1020': '1', '1021': '1', '1022': '1', '1023': '1', '1024': '1', '1025': '1', '1026': '1', '1027': '1', '1028': '1', '1029': '1', '1030': '1', '1031': '1', '1032': '1', '1033': '1', '1034': '1', '1035': '1', '1036': '1', '1037': '1', '1038': '1', '1039': '1', '1040': '1', '1041': '1', '1042': '1', '1043': '1', '1044': '1', '1045': '1', '1046': '1', '1047': '1', '1048': '1', '1049': '1', '1050': '1', '1051': '1', '1052': '1', '1053': '1', '1054': '1', '1055': '1', '1056': '1', '1057': '1', '1058': '1', '1059': '1', '1060': '1', '1061': '1', '1062': '1', '1063': '1', '1064': '1', '1065': '1', '1066': '1', '1067': '1', '1068': '1', '1069': '1', '1070': '1', '1071': '1', '1072': '1', '1073': '1', '1074': '1', '1075': '1', '1076': '1', '1077': '1', '1078': '1', '1079': '1', '1080': '1', '1081': '1', '1082': '1', '1083': '1', '1084': '1', '1085': '1', '1086': '1', '1087': '1', '1088': '1', '1089': '1', '1090': '1', '1091': '1', '1092': '1', '1093': '1', '1094': '1', '1095': '1', '1096': '1', '1097': '1', '1098': '1', '1099': '1', '1100': '1', '1101': '1', '1102': '1', '1103': '1', '1104': '1', '1105': '1', '1106': '1', '1107': '1', '1108': '1', '1109': '1', '1110': '1', '1111': '1', '1112': '1', '1113': '1', '1114': '1', '1115': '1', '1116': '1', '1117': '1', '1118': '1', '1119': '1', '1120': '1', '1121': '1', '1122': '1', '1123': '1', '1124': '1', '1125': '1', '1126': '1', '1127': '1', '1128': '1', '1129': '1', '1130': '1', '1131': '1', '1132': '1', '1133': '1', '1134': '1', '1135': '1', '1136': '1', '1137': '1', '1138': '1', '1139': '1', '1140': '1', '1141': '1', '1142': '1', '1143': '1', '1144': '1', '1145': '1', '1146': '1', '1147': '1', '1148': '1', '1149': '1', '1150': '1', '1151': '1', '1152': '1', '1153': '1', '1154': '1', '1155': '1', '1156': '1', '1157': '1', '1158': '1', '1159': '1', '1160': '1', '1161': '1', '1162': '1', '1163': '1', '1164': '1', '1165': '1', '1166': '1', '1167': '1', '1168': '1', '1169': '1', '1170': '1', '1171': '1', '1172': '1', '1173': '1', '1174': '1', '1175': '1', '1176': '1', '1177': '1', '1178': '1', '1179': '1', '1180': '1', '1181': '1', '1182': '1', '1183': '1', '1184': '1', '1185': '1', '1186': '1', '1187': '1', '1188': '1', '1189': '1', '1190': '1', '1191': '1', '1192': '1', '1193': '1', '1194': '1', '1195': '1', '1196': '1', '1197': '1', '1198': '1', '1199': '1', '1200': '1', '1201': '1', '1202': '1', '1203': '1', '1204': '1', '1205': '1', '1206': '1', '1207': '1', '1208': '1', '1209': '1', '1210': '1', '1211': '1', '1212': '1', '1213': '1', '1214': '1', '1215': '1', '1216': '1', '1217': '1', '1218': '1', '1219': '1', '1220': '1', '1221': '1', '1222': '1', '1223': '1', '1224': '1', '1225': '1', '1226': '1', '1227': '1', '1228': '1', '1229': '1', '1230': '1', '1231': '1', '1232': '1', '1233': '1', '1234': '1', '1235': '1', '1236': '1', '1237': '1', '1238': '1', '1239': '1', '1240': '1', '1241': '1', '1242': '1', '1243': '1', '1244': '1', '1245': '1', '1246': '1', '1247': '1', '1248': '1', '1249': '1', '1250': '1', '1251': '1', '1252': '1', '1253': '1', '1254': '1', '1255': '1', '1256': '1', '1257': '1', '1258': '1', '1259': '1', '1260': '1', '1261': '1', '1262': '1', '1263': '1', '1264': '1', '1265': '1', '1266': '1', '1267': '1', '1268': '1', '1269': '1', '1270': '1', '1271': '1', '1272': '1', '1273': '1', '1274': '1', '1275': '1', '1276': '1', '1277': '1', '1278': '1', '1279': '1', '1280': '1', '1281': '1', '1282': '1', '1283': '1', '1284': '1', '1285': '1', '1286': '1', '1287': '1', '1288': '1', '1289': '1', '1290': '1', '1291': '1', '1292': '1', '1293': '1', '1294': '1', '1295': '1', '1296': '1', '1297': '1', '1298': '1', '1299': '1', '1300': '1', '1301': '1', '1302': '1', '1303': '1', '1304': '1', '1305': '1', '1306': '1', '1307': '1', '1308': '1', '1309': '1', '1310': '1', '1311': '1', '1312': '1', '1313': '1', '1314': '1', '1315': '1', '1316': '1', '1317': '1', '1318': '1', '1319': '1', '1320': '1', '1321': '1', '1322': '1', '1323': '1', '1324': '1', '1325': '1', '1326': '1', '1327': '1', '1328': '1', '1329': '1', '1330': '1', '1331': '1', '1332': '1', '1333': '1', '1334': '1', '1335': '1', '1336': '1', '1337': '1', '1338': '1', '1339': '1', '1340': '1', '1341': '1', '1342': '1', '1343': '1', '1344': '1', '1345': '1', '1346': '1', '1347': '1', '1348': '1', '1349': '1', '1350': '1', '1351': '1', '1352': '1', '1353': '1', '1354': '1', '1355': '1', '1356': '1', '1357': '1', '1358': '1', '1359': '1', '1360': '1', '1361': '1', '1362': '1', '1363': '1', '1364': '1', '1365': '1', '1366': '1', '1367': '1', '1368': '1', '1369': '1', '1370': '1', '1371': '1', '1372': '1', '1373': '1', '1374': '1', '1375': '1', '1376': '1', '1377': '1', '1378': '1', '1379': '1', '1380': '1', '1381': '1', '1382': '1', '1383': '1', '1384': '1', '1385': '1', '1386': '1', '1387': '1', '1388': '1', '1389': '1', '1390': '1', '1391': '1', '1392': '1', '1393': '1', '1394': '1', '1395': '1', '1396': '1', '1397': '1', '1398': '1', '1399': '1', '1400': '1', '1401': '1', '1402': '1', '1403': '1', '1404': '1', '1405': '1', '1406': '1', '1407': '1', '1408': '1', '1409': '1', '1410': '1', '1411': '1', '1412': '1', '1413': '1', '1414': '1', '1415': '1', '1416': '1', '1417': '1', '1418': '1', '1419': '1', '1420': '1', '1421': '1', '1422': '1', '1423': '1', '1424': '1', '1425': '1', '1426': '1', '1427': '1', '1428': '1', '1429': '1', '1430': '1', '1431': '1', '1432': '1', '1433': '1', '1434': '1', '1435': '1', '1436': '1', '1437': '1', '1438': '1', '1439': '1', '1440': '1', '1441': '1', '1442': '1', '1443': '1', '1444': '1', '1445': '1', '1446': '1', '1447': '1', '1448': '1', '1449': '1', '1450': '1', '1451': '1', '1452': '1', '1453': '1', '1454': '1', '1455': '1', '1456': '1', '1457': '1', '1458': '1', '1459': '1', '1460': '1', '1461': '1', '1462': '1', '1463': '1', '1464': '1', '1465': '1', '1466': '1', '1467': '1', '1468': '1', '1469': '1', '1470': '1', '1471': '1', '1472': '1', '1473': '1', '1474': '1', '1475': '1', '1476': '1', '1477': '1', '1478': '1', '1479': '1', '1480': '1', '1481': '1', '1482': '1', '1483': '1', '1484': '1', '1485': '1', '1486': '1', '1487': '1', '1488': '1', '1489': '1', '1490': '1', '1491': '1', '1492': '1', '1493': '1', '1494': '1', '1495': '1', '1496': '1', '1497': '1', '1498': '1', '1499': '1', '1500': '1', '1501': '1', '1502': '1', '1503': '1', '1504': '1', '1505': '1', '1506': '1', '1507': '1', '1508': '1', '1509': '1', '1510': '1', '1511': '1', '1512': '1', '1513': '1', '1514': '1', '1515': '1', '1516': '1', '1517': '1', '1518': '1', '1519': '1', '1520': '1', '1521': '1', '1522': '1', '1523': '1', '1524': '1', '1525': '1', '1526': '1', '1527': '1', '1528': '1', '1529': '1', '1530': '1', '1531': '1', '1532': '1', '1533': '1', '1534': '1', '1535': '1', '1536': '1', '1537': '1', '1538': '1', '1539': '1', '1540': '1', '1541': '1', '1542': '1', '1543': '1', '1544': '1', '1545': '1', '1546': '1', '1547': '1', '1548': '1', '1549': '1', '1550': '1', '1551': '1', '1552': '1', '1553': '1', '1554': '1', '1555': '1', '1556': '1', '1557': '1', '1558': '1', '1559': '1', '1560': '1', '1561': '1', '1562': '1', '1563': '1', '1564': '1', '1565': '1', '1566': '1', '1567': '1', '1568': '1', '1569': '1', '1570': '1', '1571': '1', '1572': '1', '1573': '1', '1574': '1', '1575': '1', '1576': '1', '1577': '1', '1578': '1', '1579': '1', '1580': '1', '1581': '1', '1582': '1', '1583': '1', '1584': '1', '1585': '1', '1586': '1', '1587': '1', '1588': '1', '1589': '1', '1590': '1', '1591': '1', '1592': '1', '1593': '1', '1594': '1', '1595': '1', '1596': '1', '1597': '1', '1598': '1', '1599': '1', '1600': '1', '1601': '1', '1602': '1', '1603': '1', '1604': '1', '1605': '1', '1606': '1', '1607': '1', '1608': '1', '1609': '1', '1610': '1', '1611': '1', '1612': '1', '1613': '1', '1614': '1', '1615': '1', '1616': '1', '1617': '1', '1618': '1', '1619': '1', '1620': '1', '1621': '1', '1622': '1', '1623': '1', '1624': '1', '1625': '1', '1626': '1', '1627': '1', '1628': '1', '1629': '1', '1630': '1', '1631': '1', '1632': '1', '1633': '1', '1634': '1', '1635': '1', '1636': '1', '1637': '1', '1638': '1', '1639': '1', '1640': '1', '1641': '1', '1642': '1', '1643': '1', '1644': '1', '1645': '1', '1646': '1', '1647': '1', '1648': '1', '1649': '1', '1650': '1', '1651': '1', '1652': '1', '1653': '1', '1654': '1', '1655': '1', '1656': '1', '1657': '1', '1658': '1', '1659': '1', '1660': '1', '1661': '1', '1662': '1', '1663': '1', '1664': '1', '1665': '1', '1666': '1', '1667': '1', '1668': '1', '1669': '1', '1670': '1', '1671': '1', '1672': '1', '1673': '1', '1674': '1', '1675': '1', '1676': '1', '1677': '1', '1678': '1', '1679': '1', '1680': '1', '1681': '1', '1682': '1', '1683': '1', '1684': '1', '1685': '1', '1686': '1', '1687': '1', '1688': '1', '1689': '1', '1690': '1', '1691': '1', '1692': '1', '1693': '1', '1694': '1', '1695': '1', '1696': '1', '1697': '1', '1698': '1', '1699': '1', '1700': '1', '1701': '1', '1702': '1', '1703': '1', '1704': '1', '1705': '1', '1706': '1', '1707': '1', '1708': '1', '1709': '1', '1710': '1', '1711': '1', '1712': '1', '1713': '1', '1714': '1', '1715': '1', '1716': '1', '1717': '1', '1718': '1', '1719': '1', '1720': '1', '1721': '1', '1722': '1', '1723': '1', '1724': '1', '1725': '1', '1726': '1', '1727': '1', '1728': '1', '1729': '1', '1730': '1', '1731': '1', '1732': '1', '1733': '1', '1734': '1', '1735': '1', '1736': '1', '1737': '1', '1738': '1', '1739': '1', '1740': '1', '1741': '1', '1742': '1', '1743': '1', '1744': '1', '1745': '1', '1746': '1', '1747': '1', '1748': '1', '1749': '1', '1750': '1', '1751': '1', '1752': '1', '1753': '1', '1754': '1', '1755': '1', '1756': '1', '1757': '1', '1758': '1', '1759': '1', '1760': '1', '1761': '1', '1762': '1', '1763': '1', '1764': '1', '1765': '1', '1766': '1', '1767': '1', '1768': '1', '1769': '1', '1770': '1', '1771': '1', '1772': '1', '1773': '1', '1774': '1', '1775': '1', '1776': '1', '1777': '1', '1778': '1', '1779': '1', '1780': '1', '1781': '1', '1782': '1', '1783': '1', '1784': '1', '1785': '1', '1786': '1', '1787': '1', '1788': '1', '1789': '1', '1790': '1', '1791': '1', '1792': '1', '1793': '1', '1794': '1', '1795': '1', '1796': '1', '1797': '1', '1798': '1', '1799': '1', '1800': '1', '1801': '1', '1802': '1', '1803': '1', '1804': '1', '1805': '1', '1806': '1', '1807': '1', '1808': '1', '1809': '1', '1810': '1', '1811': '1', '1812': '1', '1813': '1', '1814': '1', '1815': '1', '1816': '1', '1817': '1', '1818': '1', '1819': '1', '1820': '1', '1821': '1', '1822': '1', '1823': '1', '1824': '1', '1825': '1', '1826': '1', '1827': '1', '1828': '1', '1829': '1', '1830': '1', '1831': '1', '1832': '1', '1833': '1', '1834': '1', '1835': '1', '1836': '1', '1837': '1', '1838': '1', '1839': '1', '1840': '1', '1841': '1', '1842': '1', '1843': '1', '1844': '1', '1845': '1', '1846': '1', '1847': '1', '1848': '1', '1849': '1', '1850': '1', '1851': '1', '1852': '1', '1853': '1', '1854': '1', '1855': '1', '1856': '1', '1857': '1', '1858': '1', '1859': '1', '1860': '1', '1861': '1', '1862': '1', '1863': '1', '1864': '1', '1865': '1', '1866': '1', '1867': '1', '1868': '1', '1869': '1', '1870': '1', '1871': '1', '1872': '1', '1873': '1', '1874': '1', '1875': '1', '1876': '1', '1877': '1', '1878': '1', '1879': '1', '1880': '1', '1881': '1', '1882': '1', '1883': '1', '1884': '1', '1885': '1', '1886': '1', '1887': '1', '1888': '1', '1889': '1', '1890': '1', '1891': '1', '1892': '1', '1893': '1', '1894': '1', '1895': '1', '1896': '1', '1897': '1', '1898': '1', '1899': '1', '1900': '1', '1901': '1', '1902': '1', '1903': '1', '1904': '1', '1905': '1', '1906': '1', '1907': '1', '1908': '1', '1909': '1', '1910': '1', '1911': '1', '1912': '1', '1913': '1', '1914': '1', '1915': '1', '1916': '1', '1917': '1', '1918': '1', '1919': '1', '1920': '1', '1921': '1', '1922': '1', '1923': '1', '1924': '1', '1925': '1', '1926': '1', '1927': '1', '1928': '1', '1929': '1', '1930': '1', '1931': '1', '1932': '1', '1933': '1', '1934': '1', '1935': '1', '1936': '1', '1937': '1', '1938': '1', '1939': '1', '1940': '1', '1941': '1', '1942': '1', '1943': '1', '1944': '1', '1945': '1', '1946': '1', '1947': '1', '1948': '1', '1949': '1', '1950': '1', '1951': '1', '1952': '1', '1953': '1', '1954': '1', '1955': '1', '1956': '1', '1957': '1', '1958': '1', '1959': '1', '1960': '1', '1961': '1', '1962': '1', '1963': '1', '1964': '1', '1965': '1', '1966': '1', '1967': '1', '1968': '1', '1969': '1', '1970': '1', '1971': '1', '1972': '1', '1973': '1', '1974': '1', '1975': '1', '1976': '1', '1977': '1', '1978': '1', '1979': '1', '1980': '1', '1981': '1', '1982': '1', '1983': '1', '1984': '1', '1985': '1', '1986': '1', '1987': '1', '1988': '1', '1989': '1', '1990': '1', '1991': '1', '1992': '1', '1993': '1', '1994': '1', '1995': '1', '1996': '1', '1997': '1', '1998': '1', '1999': '1', '2000': '1', '2001': '1', '2002': '1', '2003': '1', '2004': '1', '2005': '1', '2006': '1', '2007': '1', '2008': '1', '2009': '1', '2010': '1', '2011': '1', '2012': '1', '2013': '1', '2014': '1', '2015': '1', '2016': '1', '2017': '1', '2018': '1', '2019': '1', '2020': '1', '2021': '1', '2022': '1', '2023': '1', '2024': '1', '2025': '1', '2026': '1', '2027': '1', '2028': '1', '2029': '1', '2030': '1', '2031': '1', '2032': '1', '2033': '1', '2034': '1', '2035': '1', '2036': '1', '2037': '1', '2038': '1', '2039': '1', '2040': '1', '2041': '1', '2042': '1', '2043': '1', '2044': '1', '2045': '1', '2046': '1', '2047': '1', '2048': '1', '2049': '1', '2050': '1', '2051': '1', '2052': '1', '2053': '1', '2054': '1', '2055': '1', '2056': '1', '2057': '1', '2058': '1', '2059': '1', '2060': '1', '2061': '1', '2062': '1', '2063': '1', '2064': '1', '2065': '1', '2066': '1', '2067': '1', '2068': '1', '2069': '1', '2070': '1', '2071': '1', '2072': '1', '2073': '1', '2074': '1', '2075': '1', '2076': '1', '2077': '1', '2078': '1', '2079': '1', '2080': '1', '2081': '1', '2082': '1', '2083': '1', '2084': '1', '2085': '1', '2086': '1', '2087': '1', '2088': '1', '2089': '1', '2090': '1', '2091': '1', '2092': '1', '2093': '1', '2094': '1', '2095': '1', '2096': '1', '2097': '1', '2098': '1', '2099': '1', '2100': '1', '2101': '1', '2102': '1', '2103': '1', '2104': '1', '2105': '1', '2106': '1', '2107': '1', '2108': '1', '2109': '1', '2110': '1', '2111': '1', '2112': '1', '2113': '1', '2114': '1', '2115': '1', '2116': '1', '2117': '1', '2118': '1', '2119': '1', '2120': '1', '2121': '1', '2122': '1', '2123': '1', '2124': '1', '2125': '1', '2126': '1', '2127': '1', '2128': '1', '2129': '1', '2130': '1', '2131': '1', '2132': '1', '2133': '1', '2134': '1', '2135': '1', '2136': '1', '2137': '1', '2138': '1', '2139': '1', '2140': '1', '2141': '1', '2142': '1', '2143': '1', '2144': '1', '2145': '1', '2146': '1', '2147': '1', '2148': '1', '2149': '1', '2150': '1', '2151': '1', '2152': '1', '2153': '1', '2154': '1', '2155': '1', '2156': '1', '2157': '1', '2158': '1', '2159': '1', '2160': '1', '2161': '1', '2162': '1', '2163': '1', '2164': '1', '2165': '1', '2166': '1', '2167': '1', '2168': '1', '2169': '1', '2170': '1', '2171': '1', '2172': '1', '2173': '1', '2174': '1', '2175': '1', '2176': '1', '2177': '1', '2178': '1', '2179': '1', '2180': '1', '2181': '1', '2182': '1', '2183': '1', '2184': '1', '2185': '1', '2186': '1', '2187': '1', '2188': '1', '2189': '1', '2190': '1', '2191': '1', '2192': '1', '2193': '1', '2194': '1', '2195': '1', '2196': '1', '2197': '1', '2198': '1', '2199': '1', '2200': '1', '2201': '1', '2202': '1', '2203': '1', '2204': '1', '2205': '1', '2206': '1', '2207': '1', '2208': '1', '2209': '1', '2210': '1', '2211': '1', '2212': '1', '2213': '1', '2214': '1', '2215': '1', '2216': '1', '2217': '1', '2218': '1', '2219': '1', '2220': '1', '2221': '1', '2222': '1', '2223': '1', '2224': '1', '2225': '1', '2226': '1', '2227': '1', '2228': '1', '2229': '1', '2230': '1', '2231': '1', '2232': '1', '2233': '1', '2234': '1', '2235': '1', '2236': '1', '2237': '1', '2238': '1', '2239': '1', '2240': '1', '2241': '1', '2242': '1', '2243': '1', '2244': '1', '2245': '1', '2246': '1', '2247': '1', '2248': '1', '2249': '1', '2250': '1', '2251': '1', '2252': '1', '2253': '1', '2254': '1', '2255': '1', '2256': '1', '2257': '1', '2258': '1', '2259': '1', '2260': '1', '2261': '1', '2262': '1', '2263': '1', '2264': '1', '2265': '1', '2266': '1', '2267': '1', '2268': '1', '2269': '1', '2270': '1', '2271': '1', '2272': '1', '2273': '1', '2274': '1', '2275': '1', '2276': '1', '2277': '1', '2278': '1', '2279': '1', '2280': '1', '2281': '1', '2282': '1', '2283': '1', '2284': '1', '2285': '1', '2286': '1', '2287': '1', '2288': '1', '2289': '1', '2290': '1', '2291': '1', '2292': '1', '2293': '1', '2294': '1', '2295': '1', '2296': '1', '2297': '1', '2298': '1', '2299': '1', '2300': '1', '2301': '1', '2302': '1', '2303': '1', '2304': '1', '2305': '1', '2306': '1', '2307': '1', '2308': '1', '2309': '1', '2310': '1', '2311': '1', '2312': '1', '2313': '1', '2314': '1', '2315': '1', '2316': '1', '2317': '1', '2318': '1', '2319': '1', '2320': '1', '2321': '1', '2322': '1', '2323': '1', '2324': '1', '2325': '1', '2326': '1', '2327': '1', '2328': '1', '2329': '1', '2330': '1', '2331': '1', '2332': '1', '2333': '1', '2334': '1', '2335': '1', '2336': '1', '2337': '1', '2338': '1', '2339': '1', '2340': '1', '2341': '1', '2342': '1', '2343': '1', '2344': '1', '2345': '1', '2346': '1', '2347': '1', '2348': '1', '2349': '1', '2350': '1', '2351': '1', '2352': '1', '2353': '1', '2354': '1', '2355': '1', '2356': '1', '2357': '1', '2358': '1', '2359': '1', '2360': '1', '2361': '1', '2362': '1', '2363': '1', '2364': '1', '2365': '1', '2366': '1', '2367': '1', '2368': '0', '2369': '0', '2370': '0', '2371': '1'}\n"
          ]
        }
      ]
    },
    {
      "cell_type": "code",
      "source": [
        "from pyvis.network import Network\n",
        "\n",
        "# Non-directed\n",
        "#net = Network(notebook=True, bgcolor='#222222', font_color='white')\n",
        "net = Network(notebook=True, bgcolor='#222222', font_color='white', directed=True)\n",
        "\n",
        "zone_colors = {}\n",
        "for zone in az_zones.values():\n",
        "  r = lambda: random.randint(0,255)\n",
        "  ran_color = '#%02X%02X%02X' % (r(),r(),r())\n",
        "  zone_colors[zone] = ran_color\n",
        "\n",
        "for node_id in az_vertices.keys():\n",
        "  #net.add_node((int(node_id)), label=node_id)\n",
        "  #net.add_node((int(node_id)), label=node_id, x=az_x[node_id], y=az_y[node_id])\n",
        "  ran_color = zone_colors[az_zones[node_id]]\n",
        "  net.add_node((int(node_id)), label=node_id, color=ran_color, x=az_x[node_id], y=az_y[node_id])\n",
        "\n",
        "for node_id, node_links in az_vertices.items():\n",
        "  for link in node_links:\n",
        "    if link in az_vertices.keys():\n",
        "      if az_zones[node_id] != az_zones[link]:\n",
        "        # Mark forks to other zones with another weight\n",
        "        net.add_edge(int(node_id), int(link), value=3)\n",
        "      else:\n",
        "        net.add_edge(int(node_id), int(link))\n",
        "\n",
        "net.show('azeroth_wander_nodes.html')"
      ],
      "metadata": {
        "colab": {
          "base_uri": "https://localhost:8080/",
          "height": 676
        },
        "id": "qTSsJGVxFqU5",
        "outputId": "002da9ff-4538-4512-eb25-9a98b8a76271"
      },
      "execution_count": null,
      "outputs": [
        {
          "output_type": "stream",
          "name": "stdout",
          "text": [
            "Warning: When  cdn_resources is 'local' jupyter notebook has issues displaying graphics on chrome/safari. Use cdn_resources='in_line' or cdn_resources='remote' if you have issues viewing graphics in a notebook.\n",
            "azeroth_wander_nodes.html\n"
          ]
        },
        {
          "output_type": "execute_result",
          "data": {
            "text/plain": [
              "<IPython.lib.display.IFrame at 0x7f3ba86d92a0>"
            ],
            "text/html": [
              "\n",
              "        <iframe\n",
              "            width=\"100%\"\n",
              "            height=\"600px\"\n",
              "            src=\"azeroth_wander_nodes.html\"\n",
              "            frameborder=\"0\"\n",
              "            allowfullscreen\n",
              "            \n",
              "        ></iframe>\n",
              "        "
            ]
          },
          "metadata": {},
          "execution_count": 51
        }
      ]
    },
    {
      "cell_type": "markdown",
      "source": [
        "# Split into Kalimdor and Eastern Kingdoms"
      ],
      "metadata": {
        "id": "OPu4NuyYNWC1"
      }
    },
    {
      "cell_type": "code",
      "source": [
        "from pyvis.network import Network\n",
        "import random\n",
        "\n",
        "# Non-directed\n",
        "#net = Network(notebook=True, bgcolor='#222222', font_color='white')\n",
        "net = Network(notebook=True, bgcolor='#222222', font_color='white', directed=True)\n",
        "\n",
        "zone_colors = {}\n",
        "for zone in az_zones.values():\n",
        "  r = lambda: random.randint(0,255)\n",
        "  ran_color = '#%02X%02X%02X' % (r(),r(),r())\n",
        "  zone_colors[zone] = ran_color\n",
        "\n",
        "for node_id in az_vertices.keys():\n",
        "  if az_maps[node_id] == \"0\":\n",
        "    #net.add_node((int(node_id)), label=node_id, x=az_x[node_id], y=az_y[node_id]) # Standard (light-blue color)\n",
        "    if az_zones[node_id] == \"33\":\n",
        "      net.add_node((int(node_id)), label=node_id, color=\"#4caf50\", x=az_x[node_id], y=az_y[node_id]) # Stv\n",
        "    else:\n",
        "      ran_color = zone_colors[az_zones[node_id]]\n",
        "      net.add_node((int(node_id)), label=node_id, color=ran_color, x=az_x[node_id], y=az_y[node_id])\n",
        "\n",
        "for node_id, node_links in az_vertices.items():\n",
        "  if az_maps[node_id] == \"0\":\n",
        "    for link in node_links:\n",
        "      if link in az_vertices.keys():\n",
        "        if az_zones[node_id] != az_zones[link]:\n",
        "          # Mark forks to other zones with another weight\n",
        "          net.add_edge(int(node_id), int(link), value=3)\n",
        "        else:\n",
        "          net.add_edge(int(node_id), int(link))\n",
        "\n",
        "net.show('ek_wander_nodes.html')"
      ],
      "metadata": {
        "colab": {
          "base_uri": "https://localhost:8080/",
          "height": 676
        },
        "id": "QfqENTNsP15Q",
        "outputId": "a798f314-dbb9-4be8-cc33-d938a045c422"
      },
      "execution_count": null,
      "outputs": [
        {
          "output_type": "stream",
          "name": "stdout",
          "text": [
            "Warning: When  cdn_resources is 'local' jupyter notebook has issues displaying graphics on chrome/safari. Use cdn_resources='in_line' or cdn_resources='remote' if you have issues viewing graphics in a notebook.\n",
            "ek_wander_nodes.html\n"
          ]
        },
        {
          "output_type": "execute_result",
          "data": {
            "text/plain": [
              "<IPython.lib.display.IFrame at 0x7f3ba87403a0>"
            ],
            "text/html": [
              "\n",
              "        <iframe\n",
              "            width=\"100%\"\n",
              "            height=\"600px\"\n",
              "            src=\"ek_wander_nodes.html\"\n",
              "            frameborder=\"0\"\n",
              "            allowfullscreen\n",
              "            \n",
              "        ></iframe>\n",
              "        "
            ]
          },
          "metadata": {},
          "execution_count": 39
        }
      ]
    },
    {
      "cell_type": "code",
      "source": [
        "from pyvis.network import Network\n",
        "\n",
        "# Non-directed\n",
        "#net = Network(notebook=True, bgcolor='#222222', font_color='white')\n",
        "net = Network(notebook=True, bgcolor='#222222', font_color='white', directed=True)\n",
        "\n",
        "for node_id in az_vertices.keys():\n",
        "  if az_maps[node_id] == \"1\":\n",
        "    #net.add_node((int(node_id)), label=node_id, x=az_x[node_id], y=az_y[node_id]) # Standard (light-blue color)\n",
        "    if az_zones[node_id] == \"490\":\n",
        "      net.add_node((int(node_id)), label=node_id, color=\"#4caf50\", x=az_x[node_id], y=az_y[node_id]) # Un'Goro Crater\n",
        "    else:\n",
        "      ran_color = zone_colors[az_zones[node_id]]\n",
        "      net.add_node((int(node_id)), label=node_id, color=ran_color, x=az_x[node_id], y=az_y[node_id])\n",
        "\n",
        "for node_id, node_links in az_vertices.items():\n",
        "  if az_maps[node_id] == \"1\":\n",
        "    for link in node_links:\n",
        "      if link in az_vertices.keys():\n",
        "        if az_zones[node_id] != az_zones[link]:\n",
        "          # Mark forks to other zones with another weight\n",
        "          net.add_edge(int(node_id), int(link), value=3)\n",
        "        else:\n",
        "          net.add_edge(int(node_id), int(link))\n",
        "\n",
        "net.show('kalimdor_wander_nodes.html')"
      ],
      "metadata": {
        "colab": {
          "base_uri": "https://localhost:8080/",
          "height": 676
        },
        "id": "xA-MHRgVNQz3",
        "outputId": "6db51e42-67d1-4b40-e73e-6e5f99b6cac1"
      },
      "execution_count": null,
      "outputs": [
        {
          "output_type": "stream",
          "name": "stdout",
          "text": [
            "Warning: When  cdn_resources is 'local' jupyter notebook has issues displaying graphics on chrome/safari. Use cdn_resources='in_line' or cdn_resources='remote' if you have issues viewing graphics in a notebook.\n",
            "kalimdor_wander_nodes.html\n"
          ]
        },
        {
          "output_type": "execute_result",
          "data": {
            "text/plain": [
              "<IPython.lib.display.IFrame at 0x7f3ba890e770>"
            ],
            "text/html": [
              "\n",
              "        <iframe\n",
              "            width=\"100%\"\n",
              "            height=\"600px\"\n",
              "            src=\"kalimdor_wander_nodes.html\"\n",
              "            frameborder=\"0\"\n",
              "            allowfullscreen\n",
              "            \n",
              "        ></iframe>\n",
              "        "
            ]
          },
          "metadata": {},
          "execution_count": 48
        }
      ]
    },
    {
      "cell_type": "markdown",
      "source": [
        "#Pyvis example"
      ],
      "metadata": {
        "id": "jqcMPT5Lgupu"
      }
    },
    {
      "cell_type": "code",
      "source": [
        "from pyvis.network import Network\n",
        "\n",
        "#net = Network()\n",
        "net = Network(notebook=True) # For notebook\n",
        "\n",
        "net.add_node(1, label='Alex')\n",
        "net.add_node(2, label='Cathy')\n",
        "\n",
        "# List usage:\n",
        "#net.add_nodes([1, 2], label=['Alex', 'Carthy'])\n",
        "#net.show('list_of_nodes.html')\n",
        "\n",
        "# Adding some nodes and colors\n",
        "net.add_nodes([3, 4, 5, 6],\n",
        "              label=['Michael', 'Ben', 'Oliver', 'Olivia'],\n",
        "              color=['#3da831', '#9a31a8', '#3155a8', '#eb4034'])\n",
        "\n",
        "# Adding edges:\n",
        "net.add_edge(1, 5)\n",
        "\n",
        "# Multiple edges:\n",
        "net.add_edges([(2, 5), (3, 4), (1, 6), (2, 6), (3, 5)])\n",
        "\n",
        "\"\"\"\n",
        "Cool! But what if some edges have larger weights than the others\n",
        "(.i.e, Oliver might like Alex more than Michael)?\n",
        "We can specify the weight of each edge by adding the parameter\n",
        "value to add_edge or by adding the third value to each tuple of add_edges.\n",
        "\"\"\"\n",
        "# Edges with weights:\n",
        "#net.add_edge(1, 5, value=2)\n",
        "#net.add_edges([(2, 5, 5), (3, 4, 2), (1, 6), (2, 6), (3, 5)])\n",
        "\n",
        "# Increase spring length:\n",
        "#net.repulsion(node_distance=100, spring_length=1000)\n",
        "\n",
        "# Increase node distance:\n",
        "#net.repulsion(node_distance=500, spring_length=200)\n",
        "\n",
        "# Default:\n",
        "net.repulsion(node_distance=100, spring_length=200)\n",
        "\n",
        "net.show('nodes.html')"
      ],
      "metadata": {
        "colab": {
          "base_uri": "https://localhost:8080/",
          "height": 676
        },
        "id": "Bi7ZIrH4FRjK",
        "outputId": "5ef65946-7b0f-440c-9808-a199a31661d8"
      },
      "execution_count": null,
      "outputs": [
        {
          "output_type": "stream",
          "name": "stdout",
          "text": [
            "Warning: When  cdn_resources is 'local' jupyter notebook has issues displaying graphics on chrome/safari. Use cdn_resources='in_line' or cdn_resources='remote' if you have issues viewing graphics in a notebook.\n",
            "nodes.html\n"
          ]
        },
        {
          "output_type": "execute_result",
          "data": {
            "text/plain": [
              "<IPython.lib.display.IFrame at 0x7f16251ab040>"
            ],
            "text/html": [
              "\n",
              "        <iframe\n",
              "            width=\"100%\"\n",
              "            height=\"600px\"\n",
              "            src=\"nodes.html\"\n",
              "            frameborder=\"0\"\n",
              "            allowfullscreen\n",
              "            \n",
              "        ></iframe>\n",
              "        "
            ]
          },
          "metadata": {},
          "execution_count": 3
        }
      ]
    },
    {
      "cell_type": "markdown",
      "source": [
        "#--------------------------------------------------------------------------------------\n"
      ],
      "metadata": {
        "id": "pVQE-9Yna0T0"
      }
    },
    {
      "cell_type": "markdown",
      "source": [
        "#--------------------------------------------------------------------------------------"
      ],
      "metadata": {
        "id": "M6N_jw0ea0cT"
      }
    },
    {
      "cell_type": "markdown",
      "source": [
        "#--------------------------------------------------------------------------------------"
      ],
      "metadata": {
        "id": "QJzyrCISa0fx"
      }
    },
    {
      "cell_type": "markdown",
      "source": [
        "#Munich and Salzburg nodes!"
      ],
      "metadata": {
        "id": "W1MMBfTu-u6s"
      }
    },
    {
      "cell_type": "code",
      "source": [
        "!pip install pyvis\n",
        "!pip install utm"
      ],
      "metadata": {
        "colab": {
          "base_uri": "https://localhost:8080/"
        },
        "id": "0p-PFL4nwvEy",
        "outputId": "ec2399d0-7c60-4f77-d5eb-47aeb13d7fc8"
      },
      "execution_count": null,
      "outputs": [
        {
          "output_type": "stream",
          "name": "stdout",
          "text": [
            "Looking in indexes: https://pypi.org/simple, https://us-python.pkg.dev/colab-wheels/public/simple/\n",
            "Collecting pyvis\n",
            "  Downloading pyvis-0.3.2-py3-none-any.whl (756 kB)\n",
            "\u001b[?25l     \u001b[90m━━━━━━━━━━━━━━━━━━━━━━━━━━━━━━━━━━━━━━━━\u001b[0m \u001b[32m0.0/756.0 kB\u001b[0m \u001b[31m?\u001b[0m eta \u001b[36m-:--:--\u001b[0m\r\u001b[2K     \u001b[91m━━━━━━━━━━━━\u001b[0m\u001b[91m╸\u001b[0m\u001b[90m━━━━━━━━━━━━━━━━━━━━━━━━━━\u001b[0m \u001b[32m245.8/756.0 kB\u001b[0m \u001b[31m8.0 MB/s\u001b[0m eta \u001b[36m0:00:01\u001b[0m\r\u001b[2K     \u001b[90m━━━━━━━━━━━━━━━━━━━━━━━━━━━━━━━━━━━━━━\u001b[0m \u001b[32m756.0/756.0 kB\u001b[0m \u001b[31m13.0 MB/s\u001b[0m eta \u001b[36m0:00:00\u001b[0m\n",
            "\u001b[?25hRequirement already satisfied: ipython>=5.3.0 in /usr/local/lib/python3.10/dist-packages (from pyvis) (7.34.0)\n",
            "Requirement already satisfied: jinja2>=2.9.6 in /usr/local/lib/python3.10/dist-packages (from pyvis) (3.1.2)\n",
            "Requirement already satisfied: jsonpickle>=1.4.1 in /usr/local/lib/python3.10/dist-packages (from pyvis) (3.0.1)\n",
            "Requirement already satisfied: networkx>=1.11 in /usr/local/lib/python3.10/dist-packages (from pyvis) (3.1)\n",
            "Requirement already satisfied: setuptools>=18.5 in /usr/local/lib/python3.10/dist-packages (from ipython>=5.3.0->pyvis) (67.7.2)\n",
            "Collecting jedi>=0.16 (from ipython>=5.3.0->pyvis)\n",
            "  Downloading jedi-0.18.2-py2.py3-none-any.whl (1.6 MB)\n",
            "\u001b[2K     \u001b[90m━━━━━━━━━━━━━━━━━━━━━━━━━━━━━━━━━━━━━━━━\u001b[0m \u001b[32m1.6/1.6 MB\u001b[0m \u001b[31m59.1 MB/s\u001b[0m eta \u001b[36m0:00:00\u001b[0m\n",
            "\u001b[?25hRequirement already satisfied: decorator in /usr/local/lib/python3.10/dist-packages (from ipython>=5.3.0->pyvis) (4.4.2)\n",
            "Requirement already satisfied: pickleshare in /usr/local/lib/python3.10/dist-packages (from ipython>=5.3.0->pyvis) (0.7.5)\n",
            "Requirement already satisfied: traitlets>=4.2 in /usr/local/lib/python3.10/dist-packages (from ipython>=5.3.0->pyvis) (5.7.1)\n",
            "Requirement already satisfied: prompt-toolkit!=3.0.0,!=3.0.1,<3.1.0,>=2.0.0 in /usr/local/lib/python3.10/dist-packages (from ipython>=5.3.0->pyvis) (3.0.38)\n",
            "Requirement already satisfied: pygments in /usr/local/lib/python3.10/dist-packages (from ipython>=5.3.0->pyvis) (2.14.0)\n",
            "Requirement already satisfied: backcall in /usr/local/lib/python3.10/dist-packages (from ipython>=5.3.0->pyvis) (0.2.0)\n",
            "Requirement already satisfied: matplotlib-inline in /usr/local/lib/python3.10/dist-packages (from ipython>=5.3.0->pyvis) (0.1.6)\n",
            "Requirement already satisfied: pexpect>4.3 in /usr/local/lib/python3.10/dist-packages (from ipython>=5.3.0->pyvis) (4.8.0)\n",
            "Requirement already satisfied: MarkupSafe>=2.0 in /usr/local/lib/python3.10/dist-packages (from jinja2>=2.9.6->pyvis) (2.1.2)\n",
            "Requirement already satisfied: parso<0.9.0,>=0.8.0 in /usr/local/lib/python3.10/dist-packages (from jedi>=0.16->ipython>=5.3.0->pyvis) (0.8.3)\n",
            "Requirement already satisfied: ptyprocess>=0.5 in /usr/local/lib/python3.10/dist-packages (from pexpect>4.3->ipython>=5.3.0->pyvis) (0.7.0)\n",
            "Requirement already satisfied: wcwidth in /usr/local/lib/python3.10/dist-packages (from prompt-toolkit!=3.0.0,!=3.0.1,<3.1.0,>=2.0.0->ipython>=5.3.0->pyvis) (0.2.6)\n",
            "Installing collected packages: jedi, pyvis\n",
            "Successfully installed jedi-0.18.2 pyvis-0.3.2\n",
            "Looking in indexes: https://pypi.org/simple, https://us-python.pkg.dev/colab-wheels/public/simple/\n",
            "Collecting utm\n",
            "  Downloading utm-0.7.0.tar.gz (8.7 kB)\n",
            "  Preparing metadata (setup.py) ... \u001b[?25l\u001b[?25hdone\n",
            "Building wheels for collected packages: utm\n",
            "  Building wheel for utm (setup.py) ... \u001b[?25l\u001b[?25hdone\n",
            "  Created wheel for utm: filename=utm-0.7.0-py3-none-any.whl size=6085 sha256=9b5984e75f966eaef1e95a2e6e1c9a5cb5cab8370e3a5b3a156f25c265483ef3\n",
            "  Stored in directory: /root/.cache/pip/wheels/2f/a1/c8/543df0e8f5e824c3e92a432e32deb9cd89ae686095ee8cfcbe\n",
            "Successfully built utm\n",
            "Installing collected packages: utm\n",
            "Successfully installed utm-0.7.0\n"
          ]
        }
      ]
    },
    {
      "cell_type": "code",
      "source": [
        "#with open(\"2023_JUNE.json\") as file:\n",
        "#    ol_lines = [line.rstrip() for line in file]\n",
        "#    #print(ol_lines)\n",
        "\n",
        "import json\n",
        "#import utm\n",
        "import numpy as np\n",
        "import math\n",
        "\n",
        "# Opening JSON file\n",
        "f = open('2023_JUNE.json')\n",
        "\n",
        "# returns JSON object as a dictionary\n",
        "data = json.load(f)\n",
        "\n",
        "dates = [\"2023-06-04\", \"2023-06-05\", \"2023-06-06\", \"2023-06-07\", \"2023-06-08\"]\n",
        "node_id = 0\n",
        "\n",
        "trip_vertices = {}\n",
        "trip_names = {}\n",
        "trip_x = {}\n",
        "trip_y = {}\n",
        "\n",
        "def get_cartesian(lat=None,lon=None):\n",
        "  lat, lon = np.deg2rad(lat), np.deg2rad(lon)\n",
        "  R = 6371 # radius of the earth in km\n",
        "  x = R * np.cos(lat) * np.cos(lon)\n",
        "  y = R * np.cos(lat) * np.sin(lon)\n",
        "  z = R *np.sin(lat)\n",
        "  return x,y,z\n",
        "\n",
        "# Iterating through json\n",
        "for place in data['timelineObjects']:\n",
        "  if not (place.get('placeVisit') is None):\n",
        "    if place['placeVisit']['duration']['startTimestamp'][0:10] in dates:\n",
        "      #print(place)\n",
        "      node_id += 1\n",
        "      trip_vertices[node_id] = node_id+1\n",
        "      # Fix some links manually...\n",
        "      if node_id in [7,9,15,17,25,27,29,31,33]:\n",
        "        trip_vertices[node_id] = 3\n",
        "        print(\"Changing link for:\", node_id, \"to:\", 3)\n",
        "      elif node_id == 3:\n",
        "        trip_vertices[node_id] = 5\n",
        "      elif node_id == 22:\n",
        "        trip_vertices[node_id] = 20\n",
        "      elif node_id == 26:\n",
        "        trip_vertices[node_id] = 12\n",
        "      elif node_id == 30:\n",
        "        trip_vertices[node_id] = 15\n",
        "      elif node_id == 34:\n",
        "        trip_vertices[node_id] = 13\n",
        "      elif node_id == 35:\n",
        "        trip_vertices[node_id] = 2\n",
        "      #elif node_id == 36:\n",
        "      #  trip_vertices[node_id] = 1\n",
        "\n",
        "      trip_addr = place.get('placeVisit').get('location').get('address', 'XXX')\n",
        "      trip_names[node_id] = place.get('placeVisit').get('location').get('name', trip_addr)\n",
        "      lon = place['placeVisit']['location']['longitudeE7'] / 10000000\n",
        "      lat = place['placeVisit']['location']['latitudeE7'] / 10000000\n",
        "      #lon = round(lon, 4)\n",
        "      #lat = round(lat, 4)\n",
        "      #print(lon, lat)\n",
        "      #x, y = utm.from_latlon(lat, lon)\n",
        "      #x = lon\n",
        "      #y = lat\n",
        "\n",
        "      x, y, z = get_cartesian(lat, lon)\n",
        "      trip_x[node_id] = x\n",
        "      trip_y[node_id] = y\n",
        "      print(\"node_id:\", node_id, \"name:\", trip_names[node_id], \"x:\", trip_x[node_id], \"y:\", trip_y[node_id])\n",
        "      print(\"lon:\", lon, \"lat:\", lat)\n",
        "\n",
        "f.close()\n",
        "\n",
        "#trip_y[1] += 500\n",
        "#trip_y[37] += 500\n",
        "#trip_y[38] += 500\n",
        "\n",
        "# For loop inspo:\n",
        "#for i in range(10): print(i**2 if i<5 else 0)\n",
        "#print([i**2 for i in range(10) if i%2==0])\n",
        "\n",
        "from pyvis.network import Network\n",
        "\n",
        "#net = Network()\n",
        "# Some example options:\n",
        "#net = Network(height='100%', width='100%', bgcolor='#222222', font_color='white', directed=True)\n",
        "#net = Network(notebook=True) # For notebook\n",
        "# Non-directed\n",
        "#net = Network(notebook=True, bgcolor='#222222', font_color='white')\n",
        "net = Network(notebook=True, bgcolor='#222222', font_color='white', directed=True)\n",
        "\n",
        "added_nodes = []\n",
        "\n",
        "for node_id in trip_vertices.keys():\n",
        "  if node_id != 4: # Skip this since hotel appears twice in a row\n",
        "    if trip_names[node_id] not in added_nodes:\n",
        "      net.add_node((node_id), label=trip_names[node_id], x=trip_x[node_id], y=trip_y[node_id])\n",
        "      added_nodes.append(trip_names[node_id])\n",
        "      print(\"Added node:\", node_id)\n",
        "\n",
        "  #net.add_node((int(node_id)), label=node_id)\n",
        "  #if ol_zones[node_id] == \"3518\":\n",
        "  #  net.add_node((int(node_id)), label=node_id, color=\"#4caf50\", x=ol_x[node_id], y=ol_y[node_id]) # Nagrand\n",
        "  #elif ol_zones[node_id] == \"3519\":\n",
        "  #  net.add_node((int(node_id)), label=node_id, color=\"#265828\", x=ol_x[node_id], y=ol_y[node_id]) # Terokkar forest\n",
        "  #else:\n",
        "  #  net.add_node((int(node_id)), label=node_id, x=ol_x[node_id], y=ol_y[node_id]) # Shattrath (3703)\n",
        "\n",
        "for node_id, node_link in trip_vertices.items():\n",
        "  if node_id != 4 and node_id != 38:\n",
        "    if node_id in [8,10,16,18,26,28,30,32,34]:\n",
        "      print(\"Creating edge, node_id\", node_id, \"node_link\", node_link)\n",
        "      net.add_edge(int(3), int(node_link))\n",
        "    elif node_id == 23:\n",
        "      print(\"Creating edge, node_id\", node_id, \"node_link\", node_link)\n",
        "      net.add_edge(int(20), int(node_link))\n",
        "    elif node_id == 27:\n",
        "      print(\"Creating edge, node_id\", node_id, \"node_link\", node_link)\n",
        "      net.add_edge(int(12), int(node_link))\n",
        "    elif node_id == 31:\n",
        "      print(\"Creating edge, node_id\", node_id, \"node_link\", node_link)\n",
        "      net.add_edge(int(15), int(node_link))\n",
        "    elif node_id == 35:\n",
        "      print(\"Creating edge, node_id\", node_id, \"node_link\", node_link)\n",
        "      net.add_edge(int(13), int(node_link))\n",
        "    elif node_id == 36:\n",
        "      print(\"Creating edge, node_id\", node_id, \"node_link\", node_link)\n",
        "      net.add_edge(int(2), int(node_link))\n",
        "    #elif node_id == 37:\n",
        "    #  print(\"Creating edge, node_id\", node_id, \"node_link\", node_link)\n",
        "    #  net.add_edge(int(1), int(node_link))\n",
        "    else:\n",
        "      print(\"Creating edge, node_id\", node_id, \"node_link\", node_link)\n",
        "      net.add_edge(int(node_id), int(node_link))\n",
        "\n",
        "net.show('trip_nodes.html')"
      ],
      "metadata": {
        "id": "AtWiW6hXbdO2",
        "colab": {
          "base_uri": "https://localhost:8080/",
          "height": 1000
        },
        "outputId": "fa057440-3046-483d-9564-1ae3fcfdebad"
      },
      "execution_count": null,
      "outputs": [
        {
          "output_type": "stream",
          "name": "stdout",
          "text": [
            "node_id: 1 name: Stockholm Arlanda Airport x: 3063.350461843229 y: 991.0999632630015\n",
            "lon: 17.9281905 lat: 59.644329\n",
            "node_id: 2 name: Munich International Airport x: 4144.830745614787 y: 864.1212721580822\n",
            "lon: 11.7764347 lat: 48.3509684\n",
            "node_id: 3 name: Hotel Concorde München x: 4165.161850634419 y: 853.6524023710836\n",
            "lon: 11.5824097 lat: 48.1364899\n",
            "node_id: 4 name: Hotel Concorde München x: 4165.161850634419 y: 853.6524023710836\n",
            "lon: 11.5824097 lat: 48.1364899\n",
            "node_id: 5 name: Hauptbahnhof x: 4165.214632694678 y: 852.0384019273838\n",
            "lon: 11.5609584 lat: 48.139775\n",
            "node_id: 6 name: Schlosspark Nymphenburg x: 4164.931240927337 y: 846.8781769035937\n",
            "lon: 11.4935711 lat: 48.1555777\n",
            "Changing link for: 7 to: 3\n",
            "node_id: 7 name: Schloss Nymphenburg x: 4164.475142214437 y: 848.1375682448853\n",
            "lon: 11.5114343 lat: 48.1579414\n",
            "node_id: 8 name: Hotel Concorde München x: 4165.161850634419 y: 853.6524023710836\n",
            "lon: 11.5824097 lat: 48.1364899\n",
            "Changing link for: 9 to: 3\n",
            "node_id: 9 name: Königsquelle x: 4165.53927396193 y: 853.5879711141096\n",
            "lon: 11.5805381 lat: 48.1321811\n",
            "node_id: 10 name: Hotel Concorde München x: 4165.161850634419 y: 853.6524023710836\n",
            "lon: 11.5824097 lat: 48.1364899\n",
            "node_id: 11 name: Viktualienmarkt Beergarden x: 4165.350368941279 y: 853.2359793830641\n",
            "lon: 11.5764024 lat: 48.1352691\n",
            "node_id: 12 name: Hofstatt x: 4165.346111129335 y: 852.858222508417\n",
            "lon: 11.5714269 lat: 48.1362347\n",
            "node_id: 13 name: Marienplatz x: 4165.192252878099 y: 853.1313361882404\n",
            "lon: 11.5754485 lat: 48.1373932\n",
            "node_id: 14 name: Marc O'Polo x: 4165.468362382796 y: 852.7655402947022\n",
            "lon: 11.5698729 lat: 48.1350129\n",
            "Changing link for: 15 to: 3\n",
            "node_id: 15 name: Schrannenhalle x: 4165.424812092059 y: 853.1541086552102\n",
            "lon: 11.5751203 lat: 48.1345868\n",
            "node_id: 16 name: Hotel Concorde München x: 4165.161850634419 y: 853.6524023710836\n",
            "lon: 11.5824097 lat: 48.1364899\n",
            "Changing link for: 17 to: 3\n",
            "node_id: 17 name: Tattenbach Wirtshaus & Stüberl x: 4164.77013250906 y: 854.1351037699931\n",
            "lon: 11.5898424 lat: 48.139953\n",
            "node_id: 18 name: Hotel Concorde München x: 4165.161850634419 y: 853.6524023710836\n",
            "lon: 11.5824097 lat: 48.1364899\n",
            "node_id: 19 name: Munich Central Station x: 4165.189003478094 y: 851.9604204484018\n",
            "lon: 11.559998 lat: 48.1402669\n",
            "node_id: 20 name: Mirabell Palace x: 4168.709268790409 y: 965.6181697471435\n",
            "lon: 13.0416942 lat: 47.8054432\n",
            "node_id: 21 name: Café Mozart x: 4169.121181092667 y: 965.7808219857939\n",
            "lon: 13.0425712 lat: 47.8001263\n",
            "node_id: 22 name: Sottile's Bar & Café Salzburg x: 4168.723014237316 y: 966.0935711264699\n",
            "lon: 13.0478538 lat: 47.8039781\n",
            "node_id: 23 name: Mirabell Palace x: 4168.709268790409 y: 965.6181697471435\n",
            "lon: 13.0416942 lat: 47.8054432\n",
            "node_id: 24 name: Salzburg x: 4168.040200390225 y: 965.7219997396024\n",
            "lon: 13.0450707 lat: 47.8130704\n",
            "Changing link for: 25 to: 3\n",
            "node_id: 25 name: Augustiner-Keller x: 4165.050494902207 y: 851.2878372779304\n",
            "lon: 11.5514911 lat: 48.1435323\n",
            "node_id: 26 name: Hotel Concorde München x: 4165.161850634419 y: 853.6524023710836\n",
            "lon: 11.5824097 lat: 48.1364899\n",
            "Changing link for: 27 to: 3\n",
            "node_id: 27 name: Hofstatt x: 4165.346111129335 y: 852.858222508417\n",
            "lon: 11.5714269 lat: 48.1362347\n",
            "node_id: 28 name: Hotel Concorde München x: 4165.161850634419 y: 853.6524023710836\n",
            "lon: 11.5824097 lat: 48.1364899\n",
            "Changing link for: 29 to: 3\n",
            "node_id: 29 name: English Garden x: 4162.565815327854 y: 854.8724253871526\n",
            "lon: 11.6055522 lat: 48.1642323\n",
            "node_id: 30 name: Hotel Concorde München x: 4165.161850634419 y: 853.6524023710836\n",
            "lon: 11.5824097 lat: 48.1364899\n",
            "Changing link for: 31 to: 3\n",
            "node_id: 31 name: Schrannenhalle x: 4165.424812092059 y: 853.1541086552102\n",
            "lon: 11.5751203 lat: 48.1345868\n",
            "node_id: 32 name: Hotel Concorde München x: 4165.161850634419 y: 853.6524023710836\n",
            "lon: 11.5824097 lat: 48.1364899\n",
            "Changing link for: 33 to: 3\n",
            "node_id: 33 name: Wirtshaus Zum Straubinger x: 4165.496467533828 y: 853.1149333824646\n",
            "lon: 11.5744094 lat: 48.133834\n",
            "node_id: 34 name: Hotel Concorde München x: 4165.161850634419 y: 853.6524023710836\n",
            "lon: 11.5824097 lat: 48.1364899\n",
            "node_id: 35 name: Marienplatz x: 4165.149149497499 y: 853.1649326392687\n",
            "lon: 11.5760086 lat: 48.1378217\n",
            "node_id: 36 name: Munich International Airport x: 4144.830745614787 y: 864.1212721580822\n",
            "lon: 11.7764347 lat: 48.3509684\n",
            "node_id: 37 name: ICA Supermarket x: 3076.675316987961 y: 995.3008612361808\n",
            "lon: 17.9263335 lat: 59.4986144\n",
            "node_id: 38 name: Soldathemsvägen 17, 752 37 Uppsala, Sverige x: 3050.6920953411263 y: 969.853559644847\n",
            "lon: 17.6361179 lat: 59.8373871\n",
            "Warning: When  cdn_resources is 'local' jupyter notebook has issues displaying graphics on chrome/safari. Use cdn_resources='in_line' or cdn_resources='remote' if you have issues viewing graphics in a notebook.\n",
            "Added node: 1\n",
            "Added node: 2\n",
            "Added node: 3\n",
            "Added node: 5\n",
            "Added node: 6\n",
            "Added node: 7\n",
            "Added node: 9\n",
            "Added node: 11\n",
            "Added node: 12\n",
            "Added node: 13\n",
            "Added node: 14\n",
            "Added node: 15\n",
            "Added node: 17\n",
            "Added node: 19\n",
            "Added node: 20\n",
            "Added node: 21\n",
            "Added node: 22\n",
            "Added node: 24\n",
            "Added node: 25\n",
            "Added node: 29\n",
            "Added node: 33\n",
            "Added node: 37\n",
            "Added node: 38\n",
            "Creating edge, node_id 1 node_link 2\n",
            "Creating edge, node_id 2 node_link 3\n",
            "Creating edge, node_id 3 node_link 5\n",
            "Creating edge, node_id 5 node_link 6\n",
            "Creating edge, node_id 6 node_link 7\n",
            "Creating edge, node_id 7 node_link 3\n",
            "Creating edge, node_id 8 node_link 9\n",
            "Creating edge, node_id 9 node_link 3\n",
            "Creating edge, node_id 10 node_link 11\n",
            "Creating edge, node_id 11 node_link 12\n",
            "Creating edge, node_id 12 node_link 13\n",
            "Creating edge, node_id 13 node_link 14\n",
            "Creating edge, node_id 14 node_link 15\n",
            "Creating edge, node_id 15 node_link 3\n",
            "Creating edge, node_id 16 node_link 17\n",
            "Creating edge, node_id 17 node_link 3\n",
            "Creating edge, node_id 18 node_link 19\n",
            "Creating edge, node_id 19 node_link 20\n",
            "Creating edge, node_id 20 node_link 21\n",
            "Creating edge, node_id 21 node_link 22\n",
            "Creating edge, node_id 22 node_link 20\n",
            "Creating edge, node_id 23 node_link 24\n",
            "Creating edge, node_id 24 node_link 25\n",
            "Creating edge, node_id 25 node_link 3\n",
            "Creating edge, node_id 26 node_link 12\n",
            "Creating edge, node_id 27 node_link 3\n",
            "Creating edge, node_id 28 node_link 29\n",
            "Creating edge, node_id 29 node_link 3\n",
            "Creating edge, node_id 30 node_link 15\n",
            "Creating edge, node_id 31 node_link 3\n",
            "Creating edge, node_id 32 node_link 33\n",
            "Creating edge, node_id 33 node_link 3\n",
            "Creating edge, node_id 34 node_link 13\n",
            "Creating edge, node_id 35 node_link 2\n",
            "Creating edge, node_id 36 node_link 37\n",
            "Creating edge, node_id 37 node_link 38\n",
            "trip_nodes.html\n"
          ]
        },
        {
          "output_type": "execute_result",
          "data": {
            "text/plain": [
              "<IPython.lib.display.IFrame at 0x7ff41a74ece0>"
            ],
            "text/html": [
              "\n",
              "        <iframe\n",
              "            width=\"100%\"\n",
              "            height=\"600px\"\n",
              "            src=\"trip_nodes.html\"\n",
              "            frameborder=\"0\"\n",
              "            allowfullscreen\n",
              "            \n",
              "        ></iframe>\n",
              "        "
            ]
          },
          "metadata": {},
          "execution_count": 12
        }
      ]
    },
    {
      "cell_type": "markdown",
      "source": [
        "#-------------------------------------------------------------------------------------\n",
        "\n",
        "#-------------------------------------------------------------------------------------\n",
        "\n",
        "#-------------------------------------------------------------------------------------\n",
        "Trickerer Outland and Northrend nodes pyvis:"
      ],
      "metadata": {
        "id": "OBDbkMad-kEG"
      }
    },
    {
      "cell_type": "code",
      "source": [
        "with open(\"trickerer_ol_nr_nodes.sql\") as file:\n",
        "    ol_lines = [line.rstrip() for line in file]\n",
        "    #print(ol_lines)\n",
        "\n",
        "ol_vertices = {}\n",
        "ol_zones = {}\n",
        "ol_x = {}\n",
        "ol_y = {}\n",
        "\n",
        "# Loop Outland nodes\n",
        "for line in ol_lines:\n",
        "  if len(line) > 0 and line[0] == '(':\n",
        "    map_id = line.split(\",\")[2].replace(\"'\", \"\") # Replace \"'\" since trickerer's nodes include those\n",
        "    if map_id == \"530\": # Outland Map ID\n",
        "      node_id = line.split('(')[1].split(',')[0].replace(\"'\", \"\")\n",
        "      #print(node_id)\n",
        "      node_links = line.split(\"'\")[25].replace(\":0\", \"\")[:-1].split(\" \")\n",
        "      #print(node_links)\n",
        "      ol_vertices[node_id] = node_links\n",
        "\n",
        "      # Also add zone_ids\n",
        "      zone_id = line.split(\",\")[3].replace(\"'\", \"\")\n",
        "      ol_zones[node_id] = zone_id\n",
        "      # Add x and y\n",
        "      node_x = line.split(\",\")[8].replace(\"'\", \"\")\n",
        "      node_y = line.split(\",\")[9].replace(\"'\", \"\")\n",
        "      node_pos = get_player_position(float(node_x), float(node_y), int(map_id))\n",
        "      ol_x[node_id] = node_pos.x\n",
        "      ol_y[node_id] = node_pos.y\n",
        "\n",
        "nr_vertices = {}\n",
        "nr_zones = {}\n",
        "nr_x = {}\n",
        "nr_y = {}\n",
        "# Loop Northrend nodes\n",
        "for line in ol_lines:\n",
        "  if len(line) > 0 and line[0] == '(':\n",
        "    map_id = line.split(\",\")[2].replace(\"'\", \"\") # Replace \"'\" since trickerer's nodes include those\n",
        "    if map_id == \"571\": # Northrend Map ID\n",
        "      node_id = line.split('(')[1].split(',')[0].replace(\"'\", \"\")\n",
        "      #print(node_id)\n",
        "      node_links = line.split(\"'\")[25].replace(\":0\", \"\")[:-1].split(\" \")\n",
        "      #print(node_links)\n",
        "      nr_vertices[node_id] = node_links\n",
        "\n",
        "      # Also add zone_ids\n",
        "      zone_id = line.split(\",\")[3].replace(\"'\", \"\")\n",
        "      nr_zones[node_id] = zone_id\n",
        "      # Add x and y\n",
        "      node_x = line.split(\",\")[8].replace(\"'\", \"\")\n",
        "      node_y = line.split(\",\")[9].replace(\"'\", \"\")\n",
        "      node_pos = get_player_position(float(node_x), float(node_y), int(map_id))\n",
        "      nr_x[node_id] = node_pos.x\n",
        "      nr_y[node_id] = node_pos.y\n",
        "\n",
        "# Outland\n",
        "print(ol_x[\"2418\"])\n",
        "print(ol_y[\"2418\"])\n",
        "print(ol_x[\"2703\"])\n",
        "print(ol_y[\"2703\"])\n",
        "\n",
        "# Northrend\n",
        "print(nr_x[\"4610\"])\n",
        "print(nr_y[\"4610\"])"
      ],
      "metadata": {
        "colab": {
          "base_uri": "https://localhost:8080/"
        },
        "id": "Wd2Dpqb--4H7",
        "outputId": "38e1870c-6949-49ab-e7fb-3f56148d91b9"
      },
      "execution_count": null,
      "outputs": [
        {
          "output_type": "stream",
          "name": "stdout",
          "text": [
            "659\n",
            "391\n",
            "520\n",
            "540\n",
            "550\n",
            "359\n"
          ]
        }
      ]
    },
    {
      "cell_type": "code",
      "source": [
        "from pyvis.network import Network\n",
        "\n",
        "#net = Network()\n",
        "# Some example options:\n",
        "#net = Network(height='100%', width='100%', bgcolor='#222222', font_color='white', directed=True)\n",
        "#net = Network(notebook=True) # For notebook\n",
        "# Non-directed\n",
        "#net = Network(notebook=True, bgcolor='#222222', font_color='white')\n",
        "net = Network(notebook=True, bgcolor='#222222', font_color='white', directed=True)\n",
        "\n",
        "for node_id in ol_vertices.keys():\n",
        "  #net.add_node((int(node_id)), label=node_id)\n",
        "  if ol_zones[node_id] == \"3518\":\n",
        "    net.add_node((int(node_id)), label=node_id, color=\"#4caf50\", x=ol_x[node_id], y=ol_y[node_id]) # Nagrand\n",
        "  elif ol_zones[node_id] == \"3519\":\n",
        "    net.add_node((int(node_id)), label=node_id, color=\"#265828\", x=ol_x[node_id], y=ol_y[node_id]) # Terokkar forest\n",
        "  elif ol_zones[node_id] == \"3520\":\n",
        "    net.add_node((int(node_id)), label=node_id, color=\"#DFFE00\", x=ol_x[node_id], y=ol_y[node_id]) # Shadowmoon Valley\n",
        "  elif ol_zones[node_id] == \"3521\":\n",
        "    net.add_node((int(node_id)), label=node_id, color=\"#3155a8\", x=ol_x[node_id], y=ol_y[node_id]) # Zangarmarsh\n",
        "  elif ol_zones[node_id] == \"3483\":\n",
        "    net.add_node((int(node_id)), label=node_id, color=\"#eb4034\", x=ol_x[node_id], y=ol_y[node_id]) # Hellfire\n",
        "  elif ol_zones[node_id] == \"3522\":\n",
        "    net.add_node((int(node_id)), label=node_id, color=\"#C8AD7E\", x=ol_x[node_id], y=ol_y[node_id]) # Blade's edge\n",
        "  elif ol_zones[node_id] == \"3523\":\n",
        "    net.add_node((int(node_id)), label=node_id, color=\"#9a31a8\", x=ol_x[node_id], y=ol_y[node_id]) # Netherstorm\n",
        "  else:\n",
        "    net.add_node((int(node_id)), label=node_id, x=ol_x[node_id], y=ol_y[node_id]) # Shattrath (3703)\n",
        "\n",
        "for node_id, node_links in ol_vertices.items():\n",
        "  for link in node_links:\n",
        "    if link in ol_vertices.keys():\n",
        "      if ol_zones[node_id] != ol_zones[link]:\n",
        "        # Mark forks to other zones with another weight\n",
        "        net.add_edge(int(node_id), int(link), value=4)\n",
        "      else:\n",
        "        net.add_edge(int(node_id), int(link))\n",
        "\n",
        "net.show('trickerer_outland_wander_nodes.html')"
      ],
      "metadata": {
        "colab": {
          "base_uri": "https://localhost:8080/",
          "height": 676
        },
        "id": "0Tq4j8NK-9TQ",
        "outputId": "57a14da7-6605-441b-e24c-908dc90f7f66"
      },
      "execution_count": null,
      "outputs": [
        {
          "output_type": "stream",
          "name": "stdout",
          "text": [
            "Warning: When  cdn_resources is 'local' jupyter notebook has issues displaying graphics on chrome/safari. Use cdn_resources='in_line' or cdn_resources='remote' if you have issues viewing graphics in a notebook.\n",
            "trickerer_outland_wander_nodes.html\n"
          ]
        },
        {
          "output_type": "execute_result",
          "data": {
            "text/plain": [
              "<IPython.lib.display.IFrame at 0x7be41db518d0>"
            ],
            "text/html": [
              "\n",
              "        <iframe\n",
              "            width=\"100%\"\n",
              "            height=\"600px\"\n",
              "            src=\"trickerer_outland_wander_nodes.html\"\n",
              "            frameborder=\"0\"\n",
              "            allowfullscreen\n",
              "            \n",
              "        ></iframe>\n",
              "        "
            ]
          },
          "metadata": {},
          "execution_count": 12
        }
      ]
    },
    {
      "cell_type": "code",
      "source": [
        "from pyvis.network import Network\n",
        "\n",
        "# Non-directed\n",
        "#net = Network(notebook=True, bgcolor='#222222', font_color='white')\n",
        "net = Network(notebook=True, bgcolor='#222222', font_color='white', directed=True)\n",
        "\n",
        "for node_id in nr_vertices.keys():\n",
        "  #net.add_node((int(node_id)), label=node_id)\n",
        "  if nr_zones[node_id] == \"3711\":\n",
        "    net.add_node((int(node_id)), label=node_id, color=\"#4caf50\", x=nr_x[node_id], y=nr_y[node_id]) # Sholazar basin\n",
        "  elif nr_zones[node_id] == \"3537\":\n",
        "    net.add_node((int(node_id)), label=node_id, color=\"#DFFE00\", x=nr_x[node_id], y=nr_y[node_id]) # Borean tundra\n",
        "  elif nr_zones[node_id] == \"394\":\n",
        "    net.add_node((int(node_id)), label=node_id, color=\"#265828\", x=nr_x[node_id], y=nr_y[node_id]) # Grizzly hills\n",
        "  elif nr_zones[node_id] == \"495\":\n",
        "    net.add_node((int(node_id)), label=node_id, color=\"#6a4a3a\", x=nr_x[node_id], y=nr_y[node_id]) # Howling fjord\n",
        "  elif nr_zones[node_id] == \"210\":\n",
        "    net.add_node((int(node_id)), label=node_id, color=\"#3155a8\", x=nr_x[node_id], y=nr_y[node_id]) # Icecrown\n",
        "  elif nr_zones[node_id] == \"66\":\n",
        "    net.add_node((int(node_id)), label=node_id, color=\"#eb4034\", x=nr_x[node_id], y=nr_y[node_id]) # Zul'drak\n",
        "  elif nr_zones[node_id] == \"67\":\n",
        "    net.add_node((int(node_id)), label=node_id, color=\"#C8AD7E\", x=nr_x[node_id], y=nr_y[node_id]) # Storm peaks\n",
        "  elif nr_zones[node_id] == \"65\":\n",
        "    net.add_node((int(node_id)), label=node_id, color=\"#9a31a8\", x=nr_x[node_id], y=nr_y[node_id]) # Dragonblight\n",
        "  elif nr_zones[node_id] == \"2817\":\n",
        "    net.add_node((int(node_id)), label=node_id, color=\"#ff781f\", x=nr_x[node_id], y=nr_y[node_id]) # Crystalsong\n",
        "  else:\n",
        "    net.add_node((int(node_id)), label=node_id, x=nr_x[node_id], y=nr_y[node_id]) # Shouldn't happen!\n",
        "\n",
        "for node_id, node_links in nr_vertices.items():\n",
        "  for link in node_links:\n",
        "    if link in nr_vertices.keys():\n",
        "      if nr_zones[node_id] != nr_zones[link]:\n",
        "        # Mark forks to other zones with another weight\n",
        "        net.add_edge(int(node_id), int(link), value=4)\n",
        "      else:\n",
        "        net.add_edge(int(node_id), int(link))\n",
        "\n",
        "net.show('trickerer_northrend_wander_nodes.html')"
      ],
      "metadata": {
        "colab": {
          "base_uri": "https://localhost:8080/",
          "height": 676
        },
        "id": "n54zkMfr_DLE",
        "outputId": "b5efb9b7-8779-41ea-f042-bf68df307260"
      },
      "execution_count": null,
      "outputs": [
        {
          "output_type": "stream",
          "name": "stdout",
          "text": [
            "Warning: When  cdn_resources is 'local' jupyter notebook has issues displaying graphics on chrome/safari. Use cdn_resources='in_line' or cdn_resources='remote' if you have issues viewing graphics in a notebook.\n",
            "trickerer_northrend_wander_nodes.html\n"
          ]
        },
        {
          "output_type": "execute_result",
          "data": {
            "text/plain": [
              "<IPython.lib.display.IFrame at 0x7be41e9f3f10>"
            ],
            "text/html": [
              "\n",
              "        <iframe\n",
              "            width=\"100%\"\n",
              "            height=\"600px\"\n",
              "            src=\"trickerer_northrend_wander_nodes.html\"\n",
              "            frameborder=\"0\"\n",
              "            allowfullscreen\n",
              "            \n",
              "        ></iframe>\n",
              "        "
            ]
          },
          "metadata": {},
          "execution_count": 13
        }
      ]
    }
  ]
}